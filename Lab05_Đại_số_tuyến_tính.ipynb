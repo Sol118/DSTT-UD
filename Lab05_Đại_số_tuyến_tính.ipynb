{
  "nbformat": 4,
  "nbformat_minor": 0,
  "metadata": {
    "colab": {
      "provenance": []
    },
    "kernelspec": {
      "name": "python3",
      "display_name": "Python 3"
    },
    "language_info": {
      "name": "python"
    }
  },
  "cells": [
    {
      "cell_type": "markdown",
      "source": [
        "Bài tập trên lớp"
      ],
      "metadata": {
        "id": "CyEfNuf_Ynat"
      }
    },
    {
      "cell_type": "markdown",
      "source": [
        "Bài 1"
      ],
      "metadata": {
        "id": "Cg2fTHCYYmyo"
      }
    },
    {
      "cell_type": "code",
      "source": [
        "import numpy as np\n",
        "D = np.array([[1,2],[3,4]])\n",
        "E = np.array([[1,2],[3,5]])\n",
        "print(np.copyto(E, D))"
      ],
      "metadata": {
        "colab": {
          "base_uri": "https://localhost:8080/"
        },
        "id": "GsONxYcqYhvf",
        "outputId": "71aa3be8-ff5d-46bc-ddaa-f708cff4b07d"
      },
      "execution_count": null,
      "outputs": [
        {
          "output_type": "stream",
          "name": "stdout",
          "text": [
            "None\n"
          ]
        }
      ]
    },
    {
      "cell_type": "code",
      "execution_count": null,
      "metadata": {
        "colab": {
          "base_uri": "https://localhost:8080/"
        },
        "id": "glMWlgfCYbi9",
        "outputId": "4c3ce3d6-03cd-4ce2-eddb-731a36471f28"
      },
      "outputs": [
        {
          "output_type": "stream",
          "name": "stdout",
          "text": [
            "[[1 2]\n",
            " [3 4]]\n"
          ]
        }
      ],
      "source": [
        "print(E)"
      ]
    },
    {
      "cell_type": "code",
      "source": [
        "import numpy as np\n",
        "x = np.array([['a','b'],['c','d']])\n",
        "y = 'x'\n",
        "C = np.array([[x,y],[1, 2]], dtype=object)\n",
        "print (C)"
      ],
      "metadata": {
        "colab": {
          "base_uri": "https://localhost:8080/"
        },
        "id": "r6B7V1s9Zg20",
        "outputId": "92e0876d-304b-4a78-ff3a-681d58bbcd37"
      },
      "execution_count": null,
      "outputs": [
        {
          "output_type": "stream",
          "name": "stdout",
          "text": [
            "[[array([['a', 'b'],\n",
            "         ['c', 'd']], dtype='<U1') 'x']\n",
            " [1 2]]\n"
          ]
        }
      ]
    },
    {
      "cell_type": "code",
      "source": [
        "A = np.matrix([[[1,2],[3,4]],[[5,6],[7,8]]])\n",
        "#Lỗi, np.matrix phải là một mảng hoặc một 2D mảng"
      ],
      "metadata": {
        "colab": {
          "base_uri": "https://localhost:8080/",
          "height": 280
        },
        "id": "DT7PVlOic4v1",
        "outputId": "58cb3528-3439-4ad6-a3ee-75ce3f88c611"
      },
      "execution_count": null,
      "outputs": [
        {
          "output_type": "error",
          "ename": "ValueError",
          "evalue": "matrix must be 2-dimensional",
          "traceback": [
            "\u001b[0;31m---------------------------------------------------------------------------\u001b[0m",
            "\u001b[0;31mValueError\u001b[0m                                Traceback (most recent call last)",
            "\u001b[0;32m/tmp/ipython-input-20-3978788666.py\u001b[0m in \u001b[0;36m<cell line: 0>\u001b[0;34m()\u001b[0m\n\u001b[0;32m----> 1\u001b[0;31m \u001b[0mA\u001b[0m \u001b[0;34m=\u001b[0m \u001b[0mnp\u001b[0m\u001b[0;34m.\u001b[0m\u001b[0mmatrix\u001b[0m\u001b[0;34m(\u001b[0m\u001b[0;34m[\u001b[0m\u001b[0;34m[\u001b[0m\u001b[0;34m[\u001b[0m\u001b[0;36m1\u001b[0m\u001b[0;34m,\u001b[0m\u001b[0;36m2\u001b[0m\u001b[0;34m]\u001b[0m\u001b[0;34m,\u001b[0m\u001b[0;34m[\u001b[0m\u001b[0;36m3\u001b[0m\u001b[0;34m,\u001b[0m\u001b[0;36m4\u001b[0m\u001b[0;34m]\u001b[0m\u001b[0;34m]\u001b[0m\u001b[0;34m,\u001b[0m\u001b[0;34m[\u001b[0m\u001b[0;34m[\u001b[0m\u001b[0;36m5\u001b[0m\u001b[0;34m,\u001b[0m\u001b[0;36m6\u001b[0m\u001b[0;34m]\u001b[0m\u001b[0;34m,\u001b[0m\u001b[0;34m[\u001b[0m\u001b[0;36m7\u001b[0m\u001b[0;34m,\u001b[0m\u001b[0;36m8\u001b[0m\u001b[0;34m]\u001b[0m\u001b[0;34m]\u001b[0m\u001b[0;34m]\u001b[0m\u001b[0;34m)\u001b[0m\u001b[0;34m\u001b[0m\u001b[0;34m\u001b[0m\u001b[0m\n\u001b[0m\u001b[1;32m      2\u001b[0m \u001b[0;31m#Lỗi, np.matrix phải là một mảng hoặc một 2D mảng\u001b[0m\u001b[0;34m\u001b[0m\u001b[0;34m\u001b[0m\u001b[0m\n",
            "\u001b[0;32m/usr/local/lib/python3.11/dist-packages/numpy/matrixlib/defmatrix.py\u001b[0m in \u001b[0;36m__new__\u001b[0;34m(subtype, data, dtype, copy)\u001b[0m\n\u001b[1;32m    150\u001b[0m         \u001b[0mshape\u001b[0m \u001b[0;34m=\u001b[0m \u001b[0marr\u001b[0m\u001b[0;34m.\u001b[0m\u001b[0mshape\u001b[0m\u001b[0;34m\u001b[0m\u001b[0;34m\u001b[0m\u001b[0m\n\u001b[1;32m    151\u001b[0m         \u001b[0;32mif\u001b[0m \u001b[0;34m(\u001b[0m\u001b[0mndim\u001b[0m \u001b[0;34m>\u001b[0m \u001b[0;36m2\u001b[0m\u001b[0;34m)\u001b[0m\u001b[0;34m:\u001b[0m\u001b[0;34m\u001b[0m\u001b[0;34m\u001b[0m\u001b[0m\n\u001b[0;32m--> 152\u001b[0;31m             \u001b[0;32mraise\u001b[0m \u001b[0mValueError\u001b[0m\u001b[0;34m(\u001b[0m\u001b[0;34m\"matrix must be 2-dimensional\"\u001b[0m\u001b[0;34m)\u001b[0m\u001b[0;34m\u001b[0m\u001b[0;34m\u001b[0m\u001b[0m\n\u001b[0m\u001b[1;32m    153\u001b[0m         \u001b[0;32melif\u001b[0m \u001b[0mndim\u001b[0m \u001b[0;34m==\u001b[0m \u001b[0;36m0\u001b[0m\u001b[0;34m:\u001b[0m\u001b[0;34m\u001b[0m\u001b[0;34m\u001b[0m\u001b[0m\n\u001b[1;32m    154\u001b[0m             \u001b[0mshape\u001b[0m \u001b[0;34m=\u001b[0m \u001b[0;34m(\u001b[0m\u001b[0;36m1\u001b[0m\u001b[0;34m,\u001b[0m \u001b[0;36m1\u001b[0m\u001b[0;34m)\u001b[0m\u001b[0;34m\u001b[0m\u001b[0;34m\u001b[0m\u001b[0m\n",
            "\u001b[0;31mValueError\u001b[0m: matrix must be 2-dimensional"
          ]
        }
      ]
    },
    {
      "cell_type": "code",
      "source": [
        "A = np.array([[[1,2],[3,4]],[[5,6],[7,8]]])\n",
        "print(A)"
      ],
      "metadata": {
        "colab": {
          "base_uri": "https://localhost:8080/"
        },
        "id": "mNKqxc_Sbmqu",
        "outputId": "27534cbf-ef5d-4b63-87b9-16d04c295568"
      },
      "execution_count": null,
      "outputs": [
        {
          "output_type": "stream",
          "name": "stdout",
          "text": [
            "[[[1 2]\n",
            "  [3 4]]\n",
            "\n",
            " [[5 6]\n",
            "  [7 8]]]\n"
          ]
        }
      ]
    },
    {
      "cell_type": "code",
      "source": [
        "from numpy import matlib\n",
        "G = matlib.identity(5)\n",
        "print (G)"
      ],
      "metadata": {
        "colab": {
          "base_uri": "https://localhost:8080/"
        },
        "id": "dHSI6Et5b12h",
        "outputId": "0fc26739-8343-451a-ee87-b8eadf05c927"
      },
      "execution_count": null,
      "outputs": [
        {
          "output_type": "stream",
          "name": "stdout",
          "text": [
            "[[1. 0. 0. 0. 0.]\n",
            " [0. 1. 0. 0. 0.]\n",
            " [0. 0. 1. 0. 0.]\n",
            " [0. 0. 0. 1. 0.]\n",
            " [0. 0. 0. 0. 1.]]\n"
          ]
        }
      ]
    },
    {
      "cell_type": "code",
      "source": [
        "H = matlib.randn(3,2)\n",
        "print(H)"
      ],
      "metadata": {
        "colab": {
          "base_uri": "https://localhost:8080/"
        },
        "id": "zgN9THRTb7UZ",
        "outputId": "b1f7eadb-3dce-4b1e-d05c-d2529337c4d5"
      },
      "execution_count": null,
      "outputs": [
        {
          "output_type": "stream",
          "name": "stdout",
          "text": [
            "[[ 0.33370235  1.62549284]\n",
            " [ 0.67837464 -0.84688725]\n",
            " [ 0.23923532  1.17573435]]\n"
          ]
        }
      ]
    },
    {
      "cell_type": "code",
      "source": [
        "K = matlib.zeros([4,4])\n",
        "print(K)"
      ],
      "metadata": {
        "colab": {
          "base_uri": "https://localhost:8080/"
        },
        "id": "mIevkHnpcA7i",
        "outputId": "4b6237a9-ad41-42fd-e76c-0493148ccc98"
      },
      "execution_count": null,
      "outputs": [
        {
          "output_type": "stream",
          "name": "stdout",
          "text": [
            "[[0. 0. 0. 0.]\n",
            " [0. 0. 0. 0.]\n",
            " [0. 0. 0. 0.]\n",
            " [0. 0. 0. 0.]]\n"
          ]
        }
      ]
    },
    {
      "cell_type": "markdown",
      "source": [
        "Bài 2"
      ],
      "metadata": {
        "id": "L1Dr9iQPeE3k"
      }
    },
    {
      "cell_type": "code",
      "source": [
        "import numpy as np\n",
        "c = [3, 7, 15, 1, 292, 1, 1, 1, 2, 1, 3, 1, 14, 2]\n",
        "M = np.asmatrix([[1,2],[3,4]])\n",
        "for i in range(len(c)):\n",
        " ci = np.asmatrix([[1,1],[1,0]])\n",
        " ci[0, 0] = c[i]\n",
        " if (i==0):\n",
        "  M = ci\n",
        " else:\n",
        "  M = M.dot(ci)\n",
        "print(M)\n",
        "print (M[0,0]/M[1,0])"
      ],
      "metadata": {
        "colab": {
          "base_uri": "https://localhost:8080/"
        },
        "id": "U5Q5fhmGcC6b",
        "outputId": "2cefcc1f-6d1e-4cfa-c6f0-5834ac85abe3"
      },
      "execution_count": null,
      "outputs": [
        {
          "output_type": "stream",
          "name": "stdout",
          "text": [
            "[[165707065  80143857]\n",
            " [ 52746197  25510582]]\n",
            "3.1415926535897936\n"
          ]
        }
      ]
    },
    {
      "cell_type": "markdown",
      "source": [
        "Bài 3"
      ],
      "metadata": {
        "id": "6u9uPj3teBlI"
      }
    },
    {
      "cell_type": "code",
      "source": [
        "import numpy as np\n",
        "X = np.array([[1,1], [1,2], [1,3], [1,4], [1,5]])\n",
        "Y = np.array([[1], [2], [4], [4], [6]])\n",
        "XT = X.T\n",
        "A1 = np.linalg.inv(XT.dot(X))\n",
        "A2 = XT.dot(Y)\n",
        "A = A1.dot(A2)\n",
        "print(A)"
      ],
      "metadata": {
        "colab": {
          "base_uri": "https://localhost:8080/"
        },
        "id": "8zJKGIUCcWIe",
        "outputId": "3cbc4ead-b653-473b-92ac-228f15004702"
      },
      "execution_count": null,
      "outputs": [
        {
          "output_type": "stream",
          "name": "stdout",
          "text": [
            "[[-0.2]\n",
            " [ 1.2]]\n"
          ]
        }
      ]
    },
    {
      "cell_type": "markdown",
      "source": [
        "Bài tập chương"
      ],
      "metadata": {
        "id": "gbd1fGMFeIT8"
      }
    },
    {
      "cell_type": "markdown",
      "source": [
        "Thực hành"
      ],
      "metadata": {
        "id": "X1JwyPoteKei"
      }
    },
    {
      "cell_type": "code",
      "source": [
        "import numpy as np\n",
        "def bpcuctieu(x, y):\n",
        "    o1 = [1.0] * len(x)\n",
        "    X = np.vstack([o1, x]).T\n",
        "    y = np.array(y)\n",
        "    XT_X = np.dot(X.T, X)\n",
        "    XT_X_inv = np.linalg.inv(XT_X)\n",
        "    XT_y = np.dot(X.T, y)\n",
        "    A = np.dot(XT_X_inv, XT_y)\n",
        "    return A\n",
        "x = [0, 1, 2, 3, 4]\n",
        "y = [10.0, 8, 7, 5, 2]\n",
        "kq = bpcuctieu(x, y)\n",
        "print(f\"Phương trình tuyến tính: y = {kq[0]:.1f} + {kq[1]:.1f}x\")"
      ],
      "metadata": {
        "colab": {
          "base_uri": "https://localhost:8080/"
        },
        "id": "i-dcbvDYfOG1",
        "outputId": "f306d266-968a-47d3-bd25-a7566aac1a16"
      },
      "execution_count": null,
      "outputs": [
        {
          "output_type": "stream",
          "name": "stdout",
          "text": [
            "Phương trình tuyến tính: y = 10.2 + -1.9x\n"
          ]
        }
      ]
    }
  ]
}