{
  "nbformat": 4,
  "nbformat_minor": 0,
  "metadata": {
    "colab": {
      "provenance": []
    },
    "kernelspec": {
      "name": "python3",
      "display_name": "Python 3"
    },
    "language_info": {
      "name": "python"
    }
  },
  "cells": [
    {
      "cell_type": "markdown",
      "source": [
        "Bài tập trên lớp"
      ],
      "metadata": {
        "id": "kot631YUn7I_"
      }
    },
    {
      "cell_type": "code",
      "execution_count": null,
      "metadata": {
        "colab": {
          "base_uri": "https://localhost:8080/"
        },
        "id": "182Oq2A6n6h9",
        "outputId": "6ad2ddc6-7b2a-450d-f4d4-f4a90e6799b5"
      },
      "outputs": [
        {
          "output_type": "stream",
          "name": "stdout",
          "text": [
            "[ 18 -11   9  -8]\n"
          ]
        }
      ],
      "source": [
        "import numpy as np\n",
        "u = np.array([2,-1,5,0])\n",
        "v = np.array([4,3,1,-1])\n",
        "w = np.array([-6,2,0,3])\n",
        "x = 2*u-(v+3*w)\n",
        "print (x)"
      ]
    },
    {
      "cell_type": "code",
      "source": [
        "x = 0.5*(2*u-v-3*w)\n",
        "print (x)"
      ],
      "metadata": {
        "colab": {
          "base_uri": "https://localhost:8080/"
        },
        "id": "fz4o26hkoRbZ",
        "outputId": "af46d4f9-c479-46bd-f333-94f975038733"
      },
      "execution_count": null,
      "outputs": [
        {
          "output_type": "stream",
          "name": "stdout",
          "text": [
            "[ 9.  -5.5  4.5 -4. ]\n"
          ]
        }
      ]
    },
    {
      "cell_type": "code",
      "source": [
        "from numpy import linalg\n",
        "A = np.matrix([[0, -1, 3],[1, 1, 1],[4, 2, 2]])\n",
        "B = np.array([-1, -2, -2])\n",
        "X = np.linalg.solve(A, B)\n",
        "print(X)"
      ],
      "metadata": {
        "colab": {
          "base_uri": "https://localhost:8080/"
        },
        "id": "agnpKGa0oigt",
        "outputId": "5b2a1664-29c2-49cb-ec28-eb18dd917eec"
      },
      "execution_count": null,
      "outputs": [
        {
          "output_type": "stream",
          "name": "stdout",
          "text": [
            "[ 1. -2. -1.]\n"
          ]
        }
      ]
    },
    {
      "cell_type": "code",
      "source": [
        "A = np.matrix([[1,0],[0,0]])\n",
        "B = np.matrix([[0,0],[0,1]])\n",
        "from numpy import linalg as LA\n",
        "#a1 = LA.inv(A)   => LinAlgError: Singular matrix\n",
        "#a2 = LA.inv(B)   => LinAlgError: Singular matrix\n",
        "a3 = LA.inv(A+B)\n",
        "a4 = LA.det(A)\n",
        "a5 = LA.det(B)\n",
        "a6 = LA.det(A+B)\n",
        "print(a3)\n",
        "print(a4)\n",
        "print(a5)\n",
        "print(a6)"
      ],
      "metadata": {
        "colab": {
          "base_uri": "https://localhost:8080/"
        },
        "id": "4q6EkOwpont1",
        "outputId": "73a2aa97-f8e1-42ba-94c7-023f559b45d0"
      },
      "execution_count": null,
      "outputs": [
        {
          "output_type": "stream",
          "name": "stdout",
          "text": [
            "[[1. 0.]\n",
            " [0. 1.]]\n",
            "0.0\n",
            "0.0\n",
            "1.0\n"
          ]
        }
      ]
    },
    {
      "cell_type": "code",
      "source": [
        "import sympy as sp\n",
        "x, y = sp.symbols('x y')\n",
        "A = sp.Matrix([[x, y],[y, x]])\n",
        "x1, y1 = sp.symbols('x1 y1')\n",
        "A1 = sp.Matrix([[x1, y1],[y1, x1]])\n",
        "x2, y2 = sp.symbols('x2 y2')\n",
        "A2 = sp.Matrix([[x2, y2],[y2, x2]])\n",
        "A1.T"
      ],
      "metadata": {
        "colab": {
          "base_uri": "https://localhost:8080/",
          "height": 58
        },
        "id": "PAmX85RVq6rZ",
        "outputId": "d3d652e3-7982-4cdb-b3ca-e6c51345ab77"
      },
      "execution_count": null,
      "outputs": [
        {
          "output_type": "execute_result",
          "data": {
            "text/plain": [
              "Matrix([\n",
              "[x1, y1],\n",
              "[y1, x1]])"
            ],
            "text/latex": "$\\displaystyle \\left[\\begin{matrix}x_{1} & y_{1}\\\\y_{1} & x_{1}\\end{matrix}\\right]$"
          },
          "metadata": {},
          "execution_count": 10
        }
      ]
    },
    {
      "cell_type": "code",
      "source": [
        "(A1+A2).T"
      ],
      "metadata": {
        "colab": {
          "base_uri": "https://localhost:8080/",
          "height": 58
        },
        "id": "8CqxqpA2rNia",
        "outputId": "c3a8979a-d964-4e7b-91db-8fe56d00ceb3"
      },
      "execution_count": null,
      "outputs": [
        {
          "output_type": "execute_result",
          "data": {
            "text/plain": [
              "Matrix([\n",
              "[x1 + x2, y1 + y2],\n",
              "[y1 + y2, x1 + x2]])"
            ],
            "text/latex": "$\\displaystyle \\left[\\begin{matrix}x_{1} + x_{2} & y_{1} + y_{2}\\\\y_{1} + y_{2} & x_{1} + x_{2}\\end{matrix}\\right]$"
          },
          "metadata": {},
          "execution_count": 12
        }
      ]
    },
    {
      "cell_type": "code",
      "source": [
        "((A1+A2).T).equals(A1+A2)"
      ],
      "metadata": {
        "colab": {
          "base_uri": "https://localhost:8080/"
        },
        "id": "2kc8M0-DrQ_M",
        "outputId": "b4f3d140-8c26-49b0-d23b-a2a02934cbd1"
      },
      "execution_count": null,
      "outputs": [
        {
          "output_type": "execute_result",
          "data": {
            "text/plain": [
              "True"
            ]
          },
          "metadata": {},
          "execution_count": 13
        }
      ]
    },
    {
      "cell_type": "code",
      "source": [
        "c = sp.symbols('c')\n",
        "print (c*A)"
      ],
      "metadata": {
        "colab": {
          "base_uri": "https://localhost:8080/"
        },
        "id": "IoA2kzSQra0h",
        "outputId": "ea1ddfc1-79fa-414b-ef49-fc7b247f8cd6"
      },
      "execution_count": null,
      "outputs": [
        {
          "output_type": "stream",
          "name": "stdout",
          "text": [
            "Matrix([[c*x, c*y], [c*y, c*x]])\n"
          ]
        }
      ]
    },
    {
      "cell_type": "code",
      "source": [
        "((c*A).T).equals(c*A)"
      ],
      "metadata": {
        "colab": {
          "base_uri": "https://localhost:8080/"
        },
        "id": "eHUbh-Ojrcec",
        "outputId": "498ccf01-ea4a-41c9-8018-bef2092f5a41"
      },
      "execution_count": null,
      "outputs": [
        {
          "output_type": "execute_result",
          "data": {
            "text/plain": [
              "True"
            ]
          },
          "metadata": {},
          "execution_count": 15
        }
      ]
    },
    {
      "cell_type": "code",
      "source": [
        "import numpy as np\n",
        "u = np.array([1, 2, 3])\n",
        "v = np.array([0, 1, 2])\n",
        "w = np.array([-1, 0, 1])\n",
        "A = np.column_stack((u, v, w))\n",
        "a = np.array([1, 1, 1])\n",
        "x1 = np.linalg.lstsq(A, a, rcond=None)\n",
        "print(x1[0])\n",
        "print(np.allclose(A @ x1[0], a))\n",
        "b = np.array([1, -2, 2])\n",
        "x2 = np.linalg.lstsq(A, b, rcond=None)\n",
        "print(x2[0])\n",
        "print(np.allclose(A @ x2[0], b))"
      ],
      "metadata": {
        "colab": {
          "base_uri": "https://localhost:8080/"
        },
        "id": "1nk-g3Sfv4qk",
        "outputId": "c980dbc6-2cde-452a-d59f-88b8aa2d9fca"
      },
      "execution_count": null,
      "outputs": [
        {
          "output_type": "stream",
          "name": "stdout",
          "text": [
            "[ 5.0000000e-01  1.2490009e-16 -5.0000000e-01]\n",
            "True\n",
            "[0.08333333 0.16666667 0.25      ]\n",
            "False\n"
          ]
        }
      ]
    },
    {
      "cell_type": "code",
      "source": [
        "import sympy as sp\n",
        "c1, c2, c3 = sp.symbols('c1 c2 c3')\n",
        "sp.solve([c1-2*c3, 2*c1+c2, 3*c1+2*c2+c3], [c1, c2, c3])"
      ],
      "metadata": {
        "colab": {
          "base_uri": "https://localhost:8080/"
        },
        "id": "nHp7jPd4wBu2",
        "outputId": "ddef60fc-8537-4413-e615-f32715ef3704"
      },
      "execution_count": null,
      "outputs": [
        {
          "output_type": "execute_result",
          "data": {
            "text/plain": [
              "{c1: 0, c2: 0, c3: 0}"
            ]
          },
          "metadata": {},
          "execution_count": 17
        }
      ]
    },
    {
      "cell_type": "code",
      "source": [
        "import sympy as sp\n",
        "c1, c2 = sp.symbols('c1 c2')\n",
        "u1, u2 = sp.symbols('u1 u2')\n",
        "sp.solve([c1+c2-u1,c1-c2-u2])"
      ],
      "metadata": {
        "colab": {
          "base_uri": "https://localhost:8080/"
        },
        "id": "hzHxJ4-ywJMD",
        "outputId": "298750dd-e88f-4c79-b0f4-164297aa8fea"
      },
      "execution_count": null,
      "outputs": [
        {
          "output_type": "execute_result",
          "data": {
            "text/plain": [
              "{c1: u1/2 + u2/2, c2: u1/2 - u2/2}"
            ]
          },
          "metadata": {},
          "execution_count": 18
        }
      ]
    },
    {
      "cell_type": "code",
      "source": [
        "u1 = 0\n",
        "u2 = 0\n",
        "sp.solve([c1+c2-u1,c1-c2-u2])"
      ],
      "metadata": {
        "colab": {
          "base_uri": "https://localhost:8080/"
        },
        "id": "51HD5uOdwPm6",
        "outputId": "763f6987-ac7f-4274-8929-0cb2cf80c367"
      },
      "execution_count": null,
      "outputs": [
        {
          "output_type": "execute_result",
          "data": {
            "text/plain": [
              "{c1: 0, c2: 0}"
            ]
          },
          "metadata": {},
          "execution_count": 19
        }
      ]
    },
    {
      "cell_type": "code",
      "source": [
        "import numpy as np\n",
        "P = np.array([[0,0,3,3,1,1,2,2,1,1],[0,5,5,4,4,3,3,2,2,0]])\n",
        "vecdelta = np.array([4,2])\n",
        "P_caua = (P.T + vecdelta).T\n",
        "print (P_caua)"
      ],
      "metadata": {
        "colab": {
          "base_uri": "https://localhost:8080/"
        },
        "id": "U_ldP1SxwWT1",
        "outputId": "a7196def-9813-4acf-dab7-410fee463e6a"
      },
      "execution_count": null,
      "outputs": [
        {
          "output_type": "stream",
          "name": "stdout",
          "text": [
            "[[4 4 7 7 5 5 6 6 5 5]\n",
            " [2 7 7 6 6 5 5 4 4 2]]\n"
          ]
        }
      ]
    },
    {
      "cell_type": "code",
      "source": [
        "import numpy as np\n",
        "P = np.array([[0,0,3,3,1,1,2,2,1,1],[0,5,5,4,4,3,3,2,2,0]])\n",
        "vecdelta = np.array([4,-2])\n",
        "matran_biendoi = np.array([[1.0, 0.0], [0.0, 2.0]])\n",
        "P_caub = (P.T @ matran_biendoi + vecdelta).T\n",
        "print (P_caub)"
      ],
      "metadata": {
        "colab": {
          "base_uri": "https://localhost:8080/"
        },
        "id": "t6S1t2Nlws82",
        "outputId": "95b1ac3c-8e59-4585-aa59-f25a1032e8c0"
      },
      "execution_count": null,
      "outputs": [
        {
          "output_type": "stream",
          "name": "stdout",
          "text": [
            "[[ 4.  4.  7.  7.  5.  5.  6.  6.  5.  5.]\n",
            " [-2.  8.  8.  6.  6.  4.  4.  2.  2. -2.]]\n"
          ]
        }
      ]
    },
    {
      "cell_type": "code",
      "source": [
        "vecdelta = np.array([6, 0])\n",
        "matran_c = np.array([[-1, 0], [ 0, 1]])\n",
        "P_cauc = (P.T @ matran_c + vecdelta).T\n",
        "print(P_cauc)"
      ],
      "metadata": {
        "colab": {
          "base_uri": "https://localhost:8080/"
        },
        "id": "1yFok4K_w20n",
        "outputId": "10ae4bd9-1892-46fb-871c-8cbcf37fa36d"
      },
      "execution_count": null,
      "outputs": [
        {
          "output_type": "stream",
          "name": "stdout",
          "text": [
            "[[6 6 3 3 5 5 4 4 5 5]\n",
            " [0 5 5 4 4 3 3 2 2 0]]\n"
          ]
        }
      ]
    },
    {
      "cell_type": "code",
      "source": [
        "L = 0.5\n",
        "M = 0\n",
        "vecdelta = np.array([1, 1])\n",
        "matran_d = np.array([[1, L], [M, 1]])\n",
        "P_caud = (P.T @ matran_d + vecdelta).T\n",
        "print(P_caud)"
      ],
      "metadata": {
        "colab": {
          "base_uri": "https://localhost:8080/"
        },
        "id": "mCQ6_VlzxYMY",
        "outputId": "659f7833-e982-417a-fa11-2221a10f0e4b"
      },
      "execution_count": null,
      "outputs": [
        {
          "output_type": "stream",
          "name": "stdout",
          "text": [
            "[[1.  1.  4.  4.  2.  2.  3.  3.  2.  2. ]\n",
            " [1.  6.  7.5 6.5 5.5 4.5 5.  4.  3.5 1.5]]\n"
          ]
        }
      ]
    },
    {
      "cell_type": "code",
      "source": [
        "mat_y0 = np.array([[1, 0], [0, -1]])\n",
        "P_y0 = (P.T @ mat_y0).T\n",
        "print(P_y0)"
      ],
      "metadata": {
        "colab": {
          "base_uri": "https://localhost:8080/"
        },
        "id": "5pHBn3pIxdfh",
        "outputId": "d1df5b22-ee67-4771-dbe3-f14290a56bf8"
      },
      "execution_count": null,
      "outputs": [
        {
          "output_type": "stream",
          "name": "stdout",
          "text": [
            "[[ 0  0  3  3  1  1  2  2  1  1]\n",
            " [ 0 -5 -5 -4 -4 -3 -3 -2 -2  0]]\n"
          ]
        }
      ]
    },
    {
      "cell_type": "code",
      "source": [
        "mat_yx = np.array([[0, 1], [1, 0]])\n",
        "P_yx = (P.T @ mat_yx).T\n",
        "print(P_yx)"
      ],
      "metadata": {
        "colab": {
          "base_uri": "https://localhost:8080/"
        },
        "id": "QVratdB4xhUF",
        "outputId": "6db3d514-5eda-45e3-a30f-719a1793f3b1"
      },
      "execution_count": null,
      "outputs": [
        {
          "output_type": "stream",
          "name": "stdout",
          "text": [
            "[[0 5 5 4 4 3 3 2 2 0]\n",
            " [0 0 3 3 1 1 2 2 1 1]]\n"
          ]
        }
      ]
    },
    {
      "cell_type": "code",
      "source": [
        "import sympy as sp\n",
        "from sympy import lambdify\n",
        "x1, x2, x3 = sp.symbols('x1 x2 x3')\n",
        "bieuthuc1 = x1 - x2 + x3\n",
        "f1 = lambdify([x1, x2, x3], bieuthuc1, 'numpy')\n",
        "a, b, c = sp.symbols('a b c')\n",
        "d, e, f = sp.symbols('d e f')\n",
        "f1(a, b, c)"
      ],
      "metadata": {
        "colab": {
          "base_uri": "https://localhost:8080/",
          "height": 39
        },
        "id": "J4CRTXT-xorE",
        "outputId": "cc199d7c-88b6-4635-a973-7a48d6ce7786"
      },
      "execution_count": null,
      "outputs": [
        {
          "output_type": "execute_result",
          "data": {
            "text/plain": [
              "a - b + c"
            ],
            "text/latex": "$\\displaystyle a - b + c$"
          },
          "metadata": {},
          "execution_count": 29
        }
      ]
    },
    {
      "cell_type": "code",
      "source": [
        "f1(d, e, f)"
      ],
      "metadata": {
        "colab": {
          "base_uri": "https://localhost:8080/",
          "height": 39
        },
        "id": "Vz7xe-DSxzC1",
        "outputId": "9e799182-34e0-45f9-99d6-b9c7126f300b"
      },
      "execution_count": null,
      "outputs": [
        {
          "output_type": "execute_result",
          "data": {
            "text/plain": [
              "d - e + f"
            ],
            "text/latex": "$\\displaystyle d - e + f$"
          },
          "metadata": {},
          "execution_count": 30
        }
      ]
    },
    {
      "cell_type": "code",
      "source": [
        "f1(a+d, b+e, c+f)"
      ],
      "metadata": {
        "colab": {
          "base_uri": "https://localhost:8080/",
          "height": 39
        },
        "id": "EXXH8983x00J",
        "outputId": "8f2b05fc-66a5-46b6-efe1-03f79df791b7"
      },
      "execution_count": null,
      "outputs": [
        {
          "output_type": "execute_result",
          "data": {
            "text/plain": [
              "a - b + c + d - e + f"
            ],
            "text/latex": "$\\displaystyle a - b + c + d - e + f$"
          },
          "metadata": {},
          "execution_count": 31
        }
      ]
    },
    {
      "cell_type": "code",
      "source": [
        "f1(a,b,c) + f1(d,e,f) == f1(a+d, b+e, c+f)"
      ],
      "metadata": {
        "colab": {
          "base_uri": "https://localhost:8080/"
        },
        "id": "oYNGeD7_x9rz",
        "outputId": "b1307b6c-422d-4256-f272-3756c0339812"
      },
      "execution_count": null,
      "outputs": [
        {
          "output_type": "execute_result",
          "data": {
            "text/plain": [
              "True"
            ]
          },
          "metadata": {},
          "execution_count": 32
        }
      ]
    },
    {
      "cell_type": "code",
      "source": [
        "(f1(a,b,c) + f1(d,e,f)).equals( f1(a+d, b+e, c+f))"
      ],
      "metadata": {
        "colab": {
          "base_uri": "https://localhost:8080/"
        },
        "id": "FWTz_YzOx_Oe",
        "outputId": "ad440581-6c76-4f8c-edb7-fbe8d6639595"
      },
      "execution_count": null,
      "outputs": [
        {
          "output_type": "execute_result",
          "data": {
            "text/plain": [
              "True"
            ]
          },
          "metadata": {},
          "execution_count": 33
        }
      ]
    },
    {
      "cell_type": "code",
      "source": [
        "q = sp.symbols('q')\n",
        "(q*f1(a,b,c) + f1(d,e,f)).equals(f1(q*a+d, q*b+e, q*c+f).expand())"
      ],
      "metadata": {
        "colab": {
          "base_uri": "https://localhost:8080/"
        },
        "id": "z0SLFK5ZyBcD",
        "outputId": "2617db68-4af7-44eb-e433-53429b0ab345"
      },
      "execution_count": null,
      "outputs": [
        {
          "output_type": "execute_result",
          "data": {
            "text/plain": [
              "True"
            ]
          },
          "metadata": {},
          "execution_count": 34
        }
      ]
    },
    {
      "cell_type": "code",
      "source": [
        "bieuthuc2 = 2*x2 + 3* x3\n",
        "f2 = lambdify([x1, x2, x3], bieuthuc2, 'numpy')\n",
        "(q*f2(a,b,c) + f2(d,e,f)).equals(f2(q*a+d, q*b+e, q*c+f).expand())"
      ],
      "metadata": {
        "colab": {
          "base_uri": "https://localhost:8080/"
        },
        "id": "8zjO5NB1yoqA",
        "outputId": "f45ae530-9ed3-4d92-8a09-604481910d26"
      },
      "execution_count": null,
      "outputs": [
        {
          "output_type": "execute_result",
          "data": {
            "text/plain": [
              "True"
            ]
          },
          "metadata": {},
          "execution_count": 36
        }
      ]
    },
    {
      "cell_type": "code",
      "source": [
        "import numpy as np\n",
        "A = np.array([[1, 3], [2, 5]])\n",
        "b = np.array([4, 5])\n",
        "x = np.linalg.solve(A, b)\n",
        "S, T = x\n",
        "print(\"S =\", S, \"T =\", T)\n",
        "f_v1 = np.array([1, 1, 2])\n",
        "f_v2 = np.array([4, 2, 1])\n",
        "f_v = S * f_v1 + T * f_v2\n",
        "print(\"f(v) =\", f_v)"
      ],
      "metadata": {
        "colab": {
          "base_uri": "https://localhost:8080/"
        },
        "id": "oOcXcPppyxEy",
        "outputId": "4ae9d263-2504-46eb-d597-25aaf58900a5"
      },
      "execution_count": null,
      "outputs": [
        {
          "output_type": "stream",
          "name": "stdout",
          "text": [
            "S = -5.0 T = 3.0\n",
            "f(v) = [ 7.  1. -7.]\n"
          ]
        }
      ]
    },
    {
      "cell_type": "code",
      "source": [
        "import sympy as sp\n",
        "a, b = sp.symbols('a b')\n",
        "x, y = sp.symbols('x y')\n",
        "fu1 = np.array([1,1,2])\n",
        "fu2 = np.array([4,2,1])\n",
        "fu = a*fu1 + b*fu2\n",
        "print (fu)"
      ],
      "metadata": {
        "colab": {
          "base_uri": "https://localhost:8080/"
        },
        "id": "BP5kz8nJzIE1",
        "outputId": "57029d84-8d91-441b-8dc1-1ca92b1b18da"
      },
      "execution_count": null,
      "outputs": [
        {
          "output_type": "stream",
          "name": "stdout",
          "text": [
            "[a + 4*b a + 2*b 2*a + b]\n"
          ]
        }
      ]
    },
    {
      "cell_type": "code",
      "source": [
        "fu = a.subs(a, -5*x + 3*y)*fu1 + b.subs(b, 2*x - y)*fu2\n",
        "print (fu)"
      ],
      "metadata": {
        "colab": {
          "base_uri": "https://localhost:8080/"
        },
        "id": "VlVxjhEVzP44",
        "outputId": "228f9221-0bfc-4b2d-f6a4-098d70effe1a"
      },
      "execution_count": null,
      "outputs": [
        {
          "output_type": "stream",
          "name": "stdout",
          "text": [
            "[3*x - y -x + y -8*x + 5*y]\n"
          ]
        }
      ]
    },
    {
      "cell_type": "code",
      "source": [
        "x1, x2, x3 = sp.symbols('x1 x2 x3')\n",
        "sp.solve([x1+x2-x3, 2*x1+3*x2-x3, 3*x1+5*x2-x3],[x1, x2, x3])"
      ],
      "metadata": {
        "colab": {
          "base_uri": "https://localhost:8080/"
        },
        "id": "0LRL5vpIzVkg",
        "outputId": "42d58483-9f59-40bc-c476-1e6344db206a"
      },
      "execution_count": null,
      "outputs": [
        {
          "output_type": "execute_result",
          "data": {
            "text/plain": [
              "{x1: 2*x3, x2: -x3}"
            ]
          },
          "metadata": {},
          "execution_count": 40
        }
      ]
    },
    {
      "cell_type": "code",
      "source": [
        "import numpy as np\n",
        "v1 = np.array([-1, 1])\n",
        "v2 = np.array([1, 0])\n",
        "w1 = np.array([1, 2])\n",
        "w2 = np.array([1, 3])\n",
        "def f(xy):\n",
        "    x, y = xy\n",
        "    return np.array([x - y, x])\n",
        "fv1 = f(v1)\n",
        "fv2 = f(v2)\n",
        "print(fv1)\n",
        "print(fv2)\n",
        "D = np.column_stack((w1, w2))\n",
        "coords1 = np.linalg.solve(D, fv1)\n",
        "coords2 = np.linalg.solve(D, fv2)\n",
        "print(coords1)\n",
        "print(coords2)\n",
        "A = np.column_stack((coords1, coords2))\n",
        "print(A)\n"
      ],
      "metadata": {
        "colab": {
          "base_uri": "https://localhost:8080/"
        },
        "id": "1o0JFGVYzs_v",
        "outputId": "f2ef1f08-09f9-4596-813d-828817d90411"
      },
      "execution_count": null,
      "outputs": [
        {
          "output_type": "stream",
          "name": "stdout",
          "text": [
            "[-2 -1]\n",
            "[1 1]\n",
            "[-5.  3.]\n",
            "[ 2. -1.]\n",
            "[[-5.  2.]\n",
            " [ 3. -1.]]\n"
          ]
        }
      ]
    },
    {
      "cell_type": "code",
      "source": [
        "import numpy as np\n",
        "import math\n",
        "from scipy import linalg as LA\n",
        "B = np.matrix([[1.0/math.sqrt(2), 1.0/math.sqrt(2)], [-1.0/math.sqrt(2),1.0/math.sqrt(2)]])\n",
        "LA.orth(B)"
      ],
      "metadata": {
        "colab": {
          "base_uri": "https://localhost:8080/"
        },
        "id": "kPiP3C7t0IJu",
        "outputId": "171781ab-d99a-4f31-899d-f75cef319fb7"
      },
      "execution_count": null,
      "outputs": [
        {
          "output_type": "execute_result",
          "data": {
            "text/plain": [
              "array([[-0.70710678,  0.70710678],\n",
              "       [ 0.70710678,  0.70710678]])"
            ]
          },
          "metadata": {},
          "execution_count": 42
        }
      ]
    },
    {
      "cell_type": "code",
      "source": [
        "1.0/math.sqrt(2)"
      ],
      "metadata": {
        "id": "8lWsbmrZ0nH3",
        "outputId": "0a35c1f7-11c7-4d5c-b697-f465cc673c1a",
        "colab": {
          "base_uri": "https://localhost:8080/"
        }
      },
      "execution_count": null,
      "outputs": [
        {
          "output_type": "execute_result",
          "data": {
            "text/plain": [
              "0.7071067811865475"
            ]
          },
          "metadata": {},
          "execution_count": 43
        }
      ]
    },
    {
      "cell_type": "markdown",
      "source": [
        "Bài tập chương"
      ],
      "metadata": {
        "id": "GdnOcuf7ymXM"
      }
    },
    {
      "cell_type": "markdown",
      "source": [
        "Bài 1"
      ],
      "metadata": {
        "id": "HNqeWgVCyoVJ"
      }
    },
    {
      "cell_type": "code",
      "source": [
        "from sympy import symbols, Matrix\n",
        "\n",
        "x, y, z = symbols('x y z')\n",
        "gu = Matrix([x + y, z + 2, 0])\n",
        "print(gu)\n",
        "gv = Matrix([2*x + 2*y, 2*z + 4, 0])\n",
        "print(gv)\n",
        "g_u_v = Matrix([(x + x + y + y), (z + z + 2 + 2), 0])\n",
        "print(g_u_v)\n",
        "la_tuyen_tinh = False\n",
        "print(la_tuyen_tinh)"
      ],
      "metadata": {
        "colab": {
          "base_uri": "https://localhost:8080/"
        },
        "id": "2WgcNQk_ypI5",
        "outputId": "b528c751-714f-4834-8373-c5e0822f99d4"
      },
      "execution_count": 1,
      "outputs": [
        {
          "output_type": "stream",
          "name": "stdout",
          "text": [
            "Matrix([[x + y], [z + 2], [0]])\n",
            "Matrix([[2*x + 2*y], [2*z + 4], [0]])\n",
            "Matrix([[2*x + 2*y], [2*z + 4], [0]])\n",
            "False\n"
          ]
        }
      ]
    },
    {
      "cell_type": "markdown",
      "source": [
        "Bài 2"
      ],
      "metadata": {
        "id": "t0hB3EnJyvsq"
      }
    },
    {
      "cell_type": "code",
      "source": [
        "import numpy as np\n",
        "P = np.array([[0, 1], [1, -1]])\n",
        "F = np.array([[1, 2, 3], [4, 5, 6]])  # ví dụ tập điểm\n",
        "bien_doi_F = P @ F\n",
        "print(bien_doi_F)"
      ],
      "metadata": {
        "colab": {
          "base_uri": "https://localhost:8080/"
        },
        "id": "AWjXleryyuZp",
        "outputId": "0f0998be-c416-4eff-8ba3-bfb1ec340e1f"
      },
      "execution_count": 3,
      "outputs": [
        {
          "output_type": "stream",
          "name": "stdout",
          "text": [
            "[[ 4  5  6]\n",
            " [-3 -3 -3]]\n"
          ]
        }
      ]
    },
    {
      "cell_type": "markdown",
      "source": [
        "Bài 3"
      ],
      "metadata": {
        "id": "UQF-fLOHy1hR"
      }
    },
    {
      "cell_type": "code",
      "source": [
        "import sympy as sp\n",
        "v1, v2 = sp.symbols('v1 v2')\n",
        "a, b = sp.symbols('a b')\n",
        "u1, u2 = sp.symbols('u1 u2')\n",
        "v1a, v2a = sp.symbols('v1a v2a')\n",
        "Tu = (u1 - u2, u1 + 2*u2)\n",
        "Tv = (v1a - v2a, v1a + 2*v2a)\n",
        "print(Tu)\n",
        "print(Tv)\n",
        "T_ab_uv = (a*u1 + b*v1a - (a*u2 + b*v2a), a*u1 + b*v1a + 2*(a*u2 + b*v2a))\n",
        "print(T_ab_uv)\n",
        "T_linear_comb = (a*Tu[0] + b*Tv[0], a*Tu[1] + b*Tv[1])\n",
        "print(T_linear_comb)\n",
        "kiem_tra_T = sp.simplify(sp.Matrix(T_ab_uv) - sp.Matrix(T_linear_comb)) == sp.Matrix([0, 0])\n",
        "print(kiem_tra_T)"
      ],
      "metadata": {
        "colab": {
          "base_uri": "https://localhost:8080/"
        },
        "id": "4N505lwty0-h",
        "outputId": "f2844fac-53e2-4b7e-903a-0d3a6f4c405f"
      },
      "execution_count": 4,
      "outputs": [
        {
          "output_type": "stream",
          "name": "stdout",
          "text": [
            "(u1 - u2, u1 + 2*u2)\n",
            "(v1a - v2a, v1a + 2*v2a)\n",
            "(a*u1 - a*u2 + b*v1a - b*v2a, a*u1 + 2*a*u2 + b*v1a + 2*b*v2a)\n",
            "(a*(u1 - u2) + b*(v1a - v2a), a*(u1 + 2*u2) + b*(v1a + 2*v2a))\n",
            "True\n"
          ]
        }
      ]
    },
    {
      "cell_type": "markdown",
      "source": [
        "Bài 4"
      ],
      "metadata": {
        "id": "Onolh8dDy-Ci"
      }
    },
    {
      "cell_type": "code",
      "source": [
        "A = np.array([[13, -5], [-5, 13]])\n",
        "from numpy import linalg as LA\n",
        "import math\n",
        "gt, vt = LA.eig(A)\n",
        "P = vt\n",
        "A_cheo = P.T @ A @ P\n",
        "print(A_cheo)\n",
        "kiem_tra_truc_giao = np.allclose(P.T @ P, np.eye(2))\n",
        "print(kiem_tra_truc_giao)\n",
        "theta = math.atan2(P[1, 0], P[0, 0]) * 180 / math.pi\n",
        "print(round(theta, 2))\n",
        "print(gt)"
      ],
      "metadata": {
        "colab": {
          "base_uri": "https://localhost:8080/"
        },
        "id": "9btw1Qo_y-_Q",
        "outputId": "d24f70f8-e6db-41ea-e372-027aa480a13d"
      },
      "execution_count": 6,
      "outputs": [
        {
          "output_type": "stream",
          "name": "stdout",
          "text": [
            "[[ 1.8000000e+01  0.0000000e+00]\n",
            " [-8.8817842e-16  8.0000000e+00]]\n",
            "True\n",
            "-45.0\n",
            "[18.  8.]\n"
          ]
        }
      ]
    }
  ]
}