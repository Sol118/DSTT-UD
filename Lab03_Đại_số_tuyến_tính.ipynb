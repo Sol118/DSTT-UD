{
  "nbformat": 4,
  "nbformat_minor": 0,
  "metadata": {
    "colab": {
      "provenance": []
    },
    "kernelspec": {
      "name": "python3",
      "display_name": "Python 3"
    },
    "language_info": {
      "name": "python"
    }
  },
  "cells": [
    {
      "cell_type": "markdown",
      "source": [
        "Bài tập trên lớp"
      ],
      "metadata": {
        "id": "gPxLacmySUpL"
      }
    },
    {
      "cell_type": "markdown",
      "source": [
        "Bài 1"
      ],
      "metadata": {
        "id": "BjkWVEaqSYgW"
      }
    },
    {
      "cell_type": "code",
      "execution_count": 2,
      "metadata": {
        "colab": {
          "base_uri": "https://localhost:8080/"
        },
        "id": "AJ6QnrW-SOxz",
        "outputId": "635c6f07-3039-41da-f57f-29c3b5022219"
      },
      "outputs": [
        {
          "output_type": "stream",
          "name": "stdout",
          "text": [
            "[[0.76933265 0.80954949]\n",
            " [0.18571842 0.98876857]]\n",
            "[[1.+9.j 0.+2.j 0.+3.j]\n",
            " [0.+4.j 0.+5.j 0.+6.j]]\n",
            "[[0.78777938 0.94846842 0.06210193 0.51506202 0.33515976]\n",
            " [0.10035239 0.99481928 0.82407255 0.70988573 0.39196225]\n",
            " [0.87820633 0.6896932  0.74382004 0.5521479  0.04477338]\n",
            " [0.97134319 0.16016547 0.63982634 0.64342818 0.14600753]\n",
            " [0.05803497 0.21178687 0.62772849 0.44883108 0.05166033]\n",
            " [0.05943382 0.25543643 0.1016817  0.26286549 0.6442005 ]\n",
            " [0.48709442 0.47350674 0.41784751 0.09712425 0.44799788]\n",
            " [0.38950666 0.2853873  0.30808762 0.53887321 0.51132138]\n",
            " [0.82455942 0.17845011 0.84325416 0.01547713 0.18351501]\n",
            " [0.24457888 0.68192604 0.07813161 0.73745378 0.35485054]]\n",
            "[[4 3]\n",
            " [2 6]]\n",
            "[[0. 1. 0.]\n",
            " [0. 0. 1.]\n",
            " [0. 0. 0.]]\n"
          ]
        }
      ],
      "source": [
        "from scipy import linalg\n",
        "import numpy as np\n",
        "a = np.array([1, 2, 3])\n",
        "b = np.array([(1+9j, 2j, 3j), (4j, 5j, 6j)])\n",
        "c = np.array([[ (0.5, 1.5, 10), (3,2,1) ] , [(6,5,4), (7,8,9)]])\n",
        "A = np.matrix(np.random.random( (2,2) ) )\n",
        "B = np.asmatrix(b)\n",
        "C = np.asmatrix(np.random.random( (10,5) ) )\n",
        "D = np.asmatrix([ [4, 3], [2, 6] ])\n",
        "F = np.eye(3, k=1)\n",
        "print(A)\n",
        "print(B)\n",
        "print(C)\n",
        "print(D)\n",
        "print(F)"
      ]
    },
    {
      "cell_type": "code",
      "source": [
        "F = np.eye(3, k=0)\n",
        "print(F)"
      ],
      "metadata": {
        "colab": {
          "base_uri": "https://localhost:8080/"
        },
        "id": "N5iTzt__S0EF",
        "outputId": "a717015b-0599-4f0c-f273-65f6f49cb4cc"
      },
      "execution_count": 3,
      "outputs": [
        {
          "output_type": "stream",
          "name": "stdout",
          "text": [
            "[[1. 0. 0.]\n",
            " [0. 1. 0.]\n",
            " [0. 0. 1.]]\n"
          ]
        }
      ]
    },
    {
      "cell_type": "code",
      "source": [
        "F = np.eye(3, k=-1)\n",
        "print(F)"
      ],
      "metadata": {
        "colab": {
          "base_uri": "https://localhost:8080/"
        },
        "id": "rL_pd_ctS5V0",
        "outputId": "bfdf288b-f197-4cb8-bea0-4afe5376d45e"
      },
      "execution_count": 4,
      "outputs": [
        {
          "output_type": "stream",
          "name": "stdout",
          "text": [
            "[[0. 0. 0.]\n",
            " [1. 0. 0.]\n",
            " [0. 1. 0.]]\n"
          ]
        }
      ]
    },
    {
      "cell_type": "code",
      "source": [
        "np.linalg.matrix_rank(C)"
      ],
      "metadata": {
        "colab": {
          "base_uri": "https://localhost:8080/"
        },
        "id": "sDnS_X2yS9Cj",
        "outputId": "fa05c25e-6dee-4fd3-adfd-e0124c937da5"
      },
      "execution_count": 5,
      "outputs": [
        {
          "output_type": "execute_result",
          "data": {
            "text/plain": [
              "np.int64(5)"
            ]
          },
          "metadata": {},
          "execution_count": 5
        }
      ]
    },
    {
      "cell_type": "code",
      "source": [
        "A.I"
      ],
      "metadata": {
        "colab": {
          "base_uri": "https://localhost:8080/"
        },
        "id": "KCKMk3mrS-t5",
        "outputId": "aa3df51d-285c-4ade-9f8e-bbfb1218af76"
      },
      "execution_count": 6,
      "outputs": [
        {
          "output_type": "execute_result",
          "data": {
            "text/plain": [
              "matrix([[ 1.62001932, -1.326383  ],\n",
              "        [-0.30428499,  1.26049088]])"
            ]
          },
          "metadata": {},
          "execution_count": 6
        }
      ]
    },
    {
      "cell_type": "code",
      "source": [
        "linalg.inv(A)"
      ],
      "metadata": {
        "colab": {
          "base_uri": "https://localhost:8080/"
        },
        "id": "nYvAo25rTBIj",
        "outputId": "b3e90e57-bc54-4cd8-a656-85cf3fa729ca"
      },
      "execution_count": 7,
      "outputs": [
        {
          "output_type": "execute_result",
          "data": {
            "text/plain": [
              "array([[ 1.62001932, -1.326383  ],\n",
              "       [-0.30428499,  1.26049088]])"
            ]
          },
          "metadata": {},
          "execution_count": 7
        }
      ]
    },
    {
      "cell_type": "code",
      "source": [
        "linalg.det(A)"
      ],
      "metadata": {
        "colab": {
          "base_uri": "https://localhost:8080/"
        },
        "id": "tAsULHzrTB9Z",
        "outputId": "986b4a27-3036-4022-f54f-051f3a651be5"
      },
      "execution_count": 8,
      "outputs": [
        {
          "output_type": "execute_result",
          "data": {
            "text/plain": [
              "np.float64(0.6103436883885593)"
            ]
          },
          "metadata": {},
          "execution_count": 8
        }
      ]
    },
    {
      "cell_type": "code",
      "source": [
        "A.T"
      ],
      "metadata": {
        "colab": {
          "base_uri": "https://localhost:8080/"
        },
        "id": "IXTQn5B4TDvh",
        "outputId": "7e25a2fb-aef6-4ce9-e826-1e1b766883e3"
      },
      "execution_count": 9,
      "outputs": [
        {
          "output_type": "execute_result",
          "data": {
            "text/plain": [
              "matrix([[0.76933265, 0.18571842],\n",
              "        [0.80954949, 0.98876857]])"
            ]
          },
          "metadata": {},
          "execution_count": 9
        }
      ]
    },
    {
      "cell_type": "code",
      "source": [
        "A.H"
      ],
      "metadata": {
        "colab": {
          "base_uri": "https://localhost:8080/"
        },
        "id": "P0i6wQNxTFUP",
        "outputId": "3dae0628-8c58-4794-b53c-be3621afbb65"
      },
      "execution_count": 10,
      "outputs": [
        {
          "output_type": "execute_result",
          "data": {
            "text/plain": [
              "matrix([[0.76933265, 0.18571842],\n",
              "        [0.80954949, 0.98876857]])"
            ]
          },
          "metadata": {},
          "execution_count": 10
        }
      ]
    },
    {
      "cell_type": "code",
      "source": [
        "linalg.solve(A, b)"
      ],
      "metadata": {
        "colab": {
          "base_uri": "https://localhost:8080/"
        },
        "id": "MkfIfACFTHer",
        "outputId": "3d6ea178-cbbe-457e-ac36-f5b1f01f5408"
      },
      "execution_count": 11,
      "outputs": [
        {
          "output_type": "execute_result",
          "data": {
            "text/plain": [
              "array([[ 1.62001932+9.27464189j,  0.        -3.39187634j,\n",
              "         0.        -3.09824002j],\n",
              "       [-0.30428499+2.30339862j,  0.        +5.6938844j ,\n",
              "         0.        +6.65009029j]])"
            ]
          },
          "metadata": {},
          "execution_count": 11
        }
      ]
    },
    {
      "cell_type": "code",
      "source": [
        "E = np.asmatrix(a).T\n",
        "print(E)"
      ],
      "metadata": {
        "colab": {
          "base_uri": "https://localhost:8080/"
        },
        "id": "4av5rJnXTJXL",
        "outputId": "f0491af3-225d-4892-c88c-77322f917e9b"
      },
      "execution_count": 13,
      "outputs": [
        {
          "output_type": "stream",
          "name": "stdout",
          "text": [
            "[[1]\n",
            " [2]\n",
            " [3]]\n"
          ]
        }
      ]
    },
    {
      "cell_type": "code",
      "source": [
        "linalg.lstsq(F, E)"
      ],
      "metadata": {
        "colab": {
          "base_uri": "https://localhost:8080/"
        },
        "id": "nmbUXdbLTOYV",
        "outputId": "5e38058f-840c-4a09-8912-c437ef13739e"
      },
      "execution_count": 14,
      "outputs": [
        {
          "output_type": "execute_result",
          "data": {
            "text/plain": [
              "(array([[2.],\n",
              "        [3.],\n",
              "        [0.]]),\n",
              " array([], dtype=float64),\n",
              " 2,\n",
              " array([1., 1., 0.]))"
            ]
          },
          "metadata": {},
          "execution_count": 14
        }
      ]
    },
    {
      "cell_type": "code",
      "source": [
        "np.add(A, D)"
      ],
      "metadata": {
        "colab": {
          "base_uri": "https://localhost:8080/"
        },
        "id": "V_LwT0pbTQOq",
        "outputId": "ef04bae5-1ffe-4823-8c4f-3287f1d48b0f"
      },
      "execution_count": 15,
      "outputs": [
        {
          "output_type": "execute_result",
          "data": {
            "text/plain": [
              "matrix([[4.76933265, 3.80954949],\n",
              "        [2.18571842, 6.98876857]])"
            ]
          },
          "metadata": {},
          "execution_count": 15
        }
      ]
    },
    {
      "cell_type": "code",
      "source": [
        "np.subtract(A, D)"
      ],
      "metadata": {
        "colab": {
          "base_uri": "https://localhost:8080/"
        },
        "id": "_-V1UEUMTRyq",
        "outputId": "b0745268-3536-444c-efe9-22617cb9184e"
      },
      "execution_count": 16,
      "outputs": [
        {
          "output_type": "execute_result",
          "data": {
            "text/plain": [
              "matrix([[-3.23066735, -2.19045051],\n",
              "        [-1.81428158, -5.01123143]])"
            ]
          },
          "metadata": {},
          "execution_count": 16
        }
      ]
    },
    {
      "cell_type": "code",
      "source": [
        "np.divide(A, D)"
      ],
      "metadata": {
        "colab": {
          "base_uri": "https://localhost:8080/"
        },
        "id": "4grJCNIlTY3i",
        "outputId": "db0e5f6f-1c02-42d2-9262-8441f556bae9"
      },
      "execution_count": 17,
      "outputs": [
        {
          "output_type": "execute_result",
          "data": {
            "text/plain": [
              "matrix([[0.19233316, 0.26984983],\n",
              "        [0.09285921, 0.16479476]])"
            ]
          },
          "metadata": {},
          "execution_count": 17
        }
      ]
    },
    {
      "cell_type": "code",
      "source": [
        "A @ D"
      ],
      "metadata": {
        "colab": {
          "base_uri": "https://localhost:8080/"
        },
        "id": "HpS9tOumTacW",
        "outputId": "aef112f7-0b6f-48f4-eed5-8a3a8f4ed45b"
      },
      "execution_count": 18,
      "outputs": [
        {
          "output_type": "execute_result",
          "data": {
            "text/plain": [
              "matrix([[4.69642958, 7.16529489],\n",
              "        [2.72041082, 6.48976666]])"
            ]
          },
          "metadata": {},
          "execution_count": 18
        }
      ]
    },
    {
      "cell_type": "code",
      "source": [
        "np.multiply(D, A)"
      ],
      "metadata": {
        "colab": {
          "base_uri": "https://localhost:8080/"
        },
        "id": "w6JDzdVDTcmD",
        "outputId": "ad868462-0d2b-4c10-e449-447696ef8a52"
      },
      "execution_count": 19,
      "outputs": [
        {
          "output_type": "execute_result",
          "data": {
            "text/plain": [
              "matrix([[3.0773306 , 2.42864847],\n",
              "        [0.37143684, 5.9326114 ]])"
            ]
          },
          "metadata": {},
          "execution_count": 19
        }
      ]
    },
    {
      "cell_type": "code",
      "source": [
        "np.dot(A, D)"
      ],
      "metadata": {
        "colab": {
          "base_uri": "https://localhost:8080/"
        },
        "id": "FFYzQjNXTd9X",
        "outputId": "bb786558-85d5-4e6e-bf97-2c139385b664"
      },
      "execution_count": 20,
      "outputs": [
        {
          "output_type": "execute_result",
          "data": {
            "text/plain": [
              "matrix([[4.69642958, 7.16529489],\n",
              "        [2.72041082, 6.48976666]])"
            ]
          },
          "metadata": {},
          "execution_count": 20
        }
      ]
    },
    {
      "cell_type": "code",
      "source": [
        "np.vdot(A, D)"
      ],
      "metadata": {
        "colab": {
          "base_uri": "https://localhost:8080/"
        },
        "id": "9tK2iWN1TfY3",
        "outputId": "9cad9ab4-3a20-4d35-f6fe-249878d5d920"
      },
      "execution_count": 21,
      "outputs": [
        {
          "output_type": "execute_result",
          "data": {
            "text/plain": [
              "matrix([[3.0773306]])"
            ]
          },
          "metadata": {},
          "execution_count": 21
        }
      ]
    },
    {
      "cell_type": "code",
      "source": [
        "linalg.expm(A)"
      ],
      "metadata": {
        "colab": {
          "base_uri": "https://localhost:8080/"
        },
        "id": "dJYJXOTjThG7",
        "outputId": "96d86403-9be6-408a-feb9-2ee266bea801"
      },
      "execution_count": 22,
      "outputs": [
        {
          "output_type": "execute_result",
          "data": {
            "text/plain": [
              "array([[2.3353569 , 2.00309325],\n",
              "       [0.45952881, 2.87831396]])"
            ]
          },
          "metadata": {},
          "execution_count": 22
        }
      ]
    },
    {
      "cell_type": "code",
      "source": [
        "linalg.logm(A)"
      ],
      "metadata": {
        "colab": {
          "base_uri": "https://localhost:8080/"
        },
        "id": "PAy713dGTikJ",
        "outputId": "bfd9b379-8ac7-4c52-acb6-1f5a842526ed"
      },
      "execution_count": 23,
      "outputs": [
        {
          "output_type": "execute_result",
          "data": {
            "text/plain": [
              "array([[-0.38172433,  0.99504283],\n",
              "       [ 0.22827237, -0.11200872]])"
            ]
          },
          "metadata": {},
          "execution_count": 23
        }
      ]
    },
    {
      "cell_type": "markdown",
      "source": [
        "Bài 2"
      ],
      "metadata": {
        "id": "mdpuh83MTlJf"
      }
    },
    {
      "cell_type": "code",
      "source": [
        "import numpy as np\n",
        "A = np.array([ [0,1], [1,0]])\n",
        "print(A)"
      ],
      "metadata": {
        "colab": {
          "base_uri": "https://localhost:8080/"
        },
        "id": "lAtapL3VTmKA",
        "outputId": "363f53d5-c82a-4761-f808-336fe17b7a15"
      },
      "execution_count": 24,
      "outputs": [
        {
          "output_type": "stream",
          "name": "stdout",
          "text": [
            "[[0 1]\n",
            " [1 0]]\n"
          ]
        }
      ]
    },
    {
      "cell_type": "code",
      "source": [
        "temp = A.dot(A)\n",
        "print(temp)"
      ],
      "metadata": {
        "colab": {
          "base_uri": "https://localhost:8080/"
        },
        "id": "4YS7EV89Tp_p",
        "outputId": "6607ff36-754b-4cb0-ad51-ef724ccbf0f9"
      },
      "execution_count": 25,
      "outputs": [
        {
          "output_type": "stream",
          "name": "stdout",
          "text": [
            "[[1 0]\n",
            " [0 1]]\n"
          ]
        }
      ]
    },
    {
      "cell_type": "code",
      "source": [
        "k= 6\n",
        "for i in range(k-1):\n",
        " temp = temp.dot(A)\n",
        " print (temp)\n",
        " print('---')"
      ],
      "metadata": {
        "colab": {
          "base_uri": "https://localhost:8080/"
        },
        "id": "D2K2urieTtdX",
        "outputId": "ccfc21e9-04e6-404a-fbb9-5334f7a3a9d1"
      },
      "execution_count": 26,
      "outputs": [
        {
          "output_type": "stream",
          "name": "stdout",
          "text": [
            "[[0 1]\n",
            " [1 0]]\n",
            "---\n",
            "[[1 0]\n",
            " [0 1]]\n",
            "---\n",
            "[[0 1]\n",
            " [1 0]]\n",
            "---\n",
            "[[1 0]\n",
            " [0 1]]\n",
            "---\n",
            "[[0 1]\n",
            " [1 0]]\n",
            "---\n"
          ]
        }
      ]
    },
    {
      "cell_type": "code",
      "source": [
        "B = np.array([ [0,-1], [-1,0]])\n",
        "print(B)"
      ],
      "metadata": {
        "colab": {
          "base_uri": "https://localhost:8080/"
        },
        "id": "fvz5xa1GTyE3",
        "outputId": "4b6bc676-ba4c-4af7-d0c8-25ad3e2af2fb"
      },
      "execution_count": 27,
      "outputs": [
        {
          "output_type": "stream",
          "name": "stdout",
          "text": [
            "[[ 0 -1]\n",
            " [-1  0]]\n"
          ]
        }
      ]
    },
    {
      "cell_type": "code",
      "source": [
        "temp = B.dot(B)\n",
        "print(temp)"
      ],
      "metadata": {
        "colab": {
          "base_uri": "https://localhost:8080/"
        },
        "id": "69Is_KsxT0Gm",
        "outputId": "09338418-2d3e-431d-a029-b17466274eb8"
      },
      "execution_count": 28,
      "outputs": [
        {
          "output_type": "stream",
          "name": "stdout",
          "text": [
            "[[1 0]\n",
            " [0 1]]\n"
          ]
        }
      ]
    },
    {
      "cell_type": "code",
      "source": [
        "k= 5\n",
        "for i in range(k-1):\n",
        " temp = temp.dot(B)\n",
        " print (temp)\n",
        " print('---')"
      ],
      "metadata": {
        "colab": {
          "base_uri": "https://localhost:8080/"
        },
        "id": "B1dqGJ-CT2Xm",
        "outputId": "ec149777-1f4a-4c9f-d70b-87c618147d8f"
      },
      "execution_count": 29,
      "outputs": [
        {
          "output_type": "stream",
          "name": "stdout",
          "text": [
            "[[ 0 -1]\n",
            " [-1  0]]\n",
            "---\n",
            "[[1 0]\n",
            " [0 1]]\n",
            "---\n",
            "[[ 0 -1]\n",
            " [-1  0]]\n",
            "---\n",
            "[[1 0]\n",
            " [0 1]]\n",
            "---\n"
          ]
        }
      ]
    },
    {
      "cell_type": "code",
      "source": [
        "C = np.array([ [1, 0, 0], [0, 0.5, 1], [0, 0, 0.5] ])\n",
        "print(C)"
      ],
      "metadata": {
        "colab": {
          "base_uri": "https://localhost:8080/"
        },
        "id": "hVgr-wmoT7Uo",
        "outputId": "6521dd24-9684-49e9-fccf-2b7de61f11e7"
      },
      "execution_count": 30,
      "outputs": [
        {
          "output_type": "stream",
          "name": "stdout",
          "text": [
            "[[1.  0.  0. ]\n",
            " [0.  0.5 1. ]\n",
            " [0.  0.  0.5]]\n"
          ]
        }
      ]
    },
    {
      "cell_type": "code",
      "source": [
        "temp = C.dot(C)\n",
        "print(temp)"
      ],
      "metadata": {
        "colab": {
          "base_uri": "https://localhost:8080/"
        },
        "id": "rMA66jeqT_Wi",
        "outputId": "d7761c80-e93a-4852-ed63-3aed37690895"
      },
      "execution_count": 31,
      "outputs": [
        {
          "output_type": "stream",
          "name": "stdout",
          "text": [
            "[[1.   0.   0.  ]\n",
            " [0.   0.25 1.  ]\n",
            " [0.   0.   0.25]]\n"
          ]
        }
      ]
    },
    {
      "cell_type": "code",
      "source": [
        "k= 1000\n",
        "for i in range(k-1):\n",
        " temp = temp.dot(C)\n",
        "print(temp)"
      ],
      "metadata": {
        "colab": {
          "base_uri": "https://localhost:8080/"
        },
        "id": "gY3bMCr5UDZb",
        "outputId": "e6f3f5e4-f6e1-4cd2-902f-6a310e1bd70c"
      },
      "execution_count": 32,
      "outputs": [
        {
          "output_type": "stream",
          "name": "stdout",
          "text": [
            "[[1.00000000e+000 0.00000000e+000 0.00000000e+000]\n",
            " [0.00000000e+000 4.66631809e-302 9.34196882e-299]\n",
            " [0.00000000e+000 0.00000000e+000 4.66631809e-302]]\n"
          ]
        }
      ]
    },
    {
      "cell_type": "code",
      "source": [
        "k= 1000\n",
        "for i in range(k-1):\n",
        " temp = temp.dot(C)\n",
        "print(temp)"
      ],
      "metadata": {
        "colab": {
          "base_uri": "https://localhost:8080/"
        },
        "id": "QeJGofXdUIFy",
        "outputId": "7d4068ac-00c8-41bb-b0af-eafe4af942c4"
      },
      "execution_count": 33,
      "outputs": [
        {
          "output_type": "stream",
          "name": "stdout",
          "text": [
            "[[1. 0. 0.]\n",
            " [0. 0. 0.]\n",
            " [0. 0. 0.]]\n"
          ]
        }
      ]
    },
    {
      "cell_type": "code",
      "source": [
        "M = np.array([ [0.8, 0.3], [0.2, 0.7]])\n",
        "MM = M.dot(M)\n",
        "print (MM)"
      ],
      "metadata": {
        "colab": {
          "base_uri": "https://localhost:8080/"
        },
        "id": "WMy-ujwwUPE4",
        "outputId": "c0ee312f-b5b9-4e3a-b3ca-3f09ceed7190"
      },
      "execution_count": 34,
      "outputs": [
        {
          "output_type": "stream",
          "name": "stdout",
          "text": [
            "[[0.7  0.45]\n",
            " [0.3  0.55]]\n"
          ]
        }
      ]
    },
    {
      "cell_type": "code",
      "source": [
        "MM = M.dot(M)\n",
        "print (MM)"
      ],
      "metadata": {
        "colab": {
          "base_uri": "https://localhost:8080/"
        },
        "id": "KtAjHaXvURyl",
        "outputId": "240c0cfb-f59b-40f2-96cc-1b6e6f4c405a"
      },
      "execution_count": 35,
      "outputs": [
        {
          "output_type": "stream",
          "name": "stdout",
          "text": [
            "[[0.7  0.45]\n",
            " [0.3  0.55]]\n"
          ]
        }
      ]
    },
    {
      "cell_type": "code",
      "source": [
        "for i in range(100):\n",
        " MM = MM.dot(M)\n",
        "print (MM)"
      ],
      "metadata": {
        "colab": {
          "base_uri": "https://localhost:8080/"
        },
        "id": "ljwQebXPUUOF",
        "outputId": "57becf35-e0ee-4406-9828-637c3d85bf93"
      },
      "execution_count": 36,
      "outputs": [
        {
          "output_type": "stream",
          "name": "stdout",
          "text": [
            "[[0.6 0.6]\n",
            " [0.4 0.4]]\n"
          ]
        }
      ]
    },
    {
      "cell_type": "markdown",
      "source": [
        "Bài 3"
      ],
      "metadata": {
        "id": "tHF89X0pUYgl"
      }
    },
    {
      "cell_type": "code",
      "source": [
        "M = np.array([ [0.8, 0.3], [0.2, 0.7]])\n",
        "P, L, U = linalg.lu(M)\n",
        "print (P)"
      ],
      "metadata": {
        "colab": {
          "base_uri": "https://localhost:8080/"
        },
        "id": "3zzAePJtUZKO",
        "outputId": "92da454f-279a-439b-e644-51b2747af4d8"
      },
      "execution_count": 37,
      "outputs": [
        {
          "output_type": "stream",
          "name": "stdout",
          "text": [
            "[[1. 0.]\n",
            " [0. 1.]]\n"
          ]
        }
      ]
    },
    {
      "cell_type": "code",
      "source": [
        "print (L)"
      ],
      "metadata": {
        "colab": {
          "base_uri": "https://localhost:8080/"
        },
        "id": "aNyA9NjnUcO9",
        "outputId": "a13fbd7b-94ed-4939-8bef-3fff4a13588a"
      },
      "execution_count": 38,
      "outputs": [
        {
          "output_type": "stream",
          "name": "stdout",
          "text": [
            "[[1.   0.  ]\n",
            " [0.25 1.  ]]\n"
          ]
        }
      ]
    },
    {
      "cell_type": "code",
      "source": [
        "print (U)"
      ],
      "metadata": {
        "colab": {
          "base_uri": "https://localhost:8080/"
        },
        "id": "sjAIwjoNUdWz",
        "outputId": "2b9d9d4f-7b02-4e5c-b28c-8fe0a8576b66"
      },
      "execution_count": 39,
      "outputs": [
        {
          "output_type": "stream",
          "name": "stdout",
          "text": [
            "[[0.8   0.3  ]\n",
            " [0.    0.625]]\n"
          ]
        }
      ]
    },
    {
      "cell_type": "code",
      "source": [
        "L.dot(U)"
      ],
      "metadata": {
        "colab": {
          "base_uri": "https://localhost:8080/"
        },
        "id": "AjCodT0OUiRB",
        "outputId": "5a071345-1af9-4c5d-cd53-f27b11377d07"
      },
      "execution_count": 40,
      "outputs": [
        {
          "output_type": "execute_result",
          "data": {
            "text/plain": [
              "array([[0.8, 0.3],\n",
              "       [0.2, 0.7]])"
            ]
          },
          "metadata": {},
          "execution_count": 40
        }
      ]
    },
    {
      "cell_type": "code",
      "source": [
        "A = np.array([ [0,1,0,1],[0,0,1,0],[1,0,0,1],[1,1,0,0]])\n",
        "temp = A.dot(A)\n",
        "print(temp)"
      ],
      "metadata": {
        "colab": {
          "base_uri": "https://localhost:8080/"
        },
        "id": "yyKuK5yxUl2y",
        "outputId": "82279f5e-29e9-499c-d049-7e87d91fce43"
      },
      "execution_count": 41,
      "outputs": [
        {
          "output_type": "stream",
          "name": "stdout",
          "text": [
            "[[1 1 1 0]\n",
            " [1 0 0 1]\n",
            " [1 2 0 1]\n",
            " [0 1 1 1]]\n"
          ]
        }
      ]
    },
    {
      "cell_type": "code",
      "source": [
        "temp = temp.dot(A)\n",
        "print(temp)"
      ],
      "metadata": {
        "colab": {
          "base_uri": "https://localhost:8080/"
        },
        "id": "mEEMGmCaUqOk",
        "outputId": "53dfd541-5bde-4b04-cd6c-c0dc2b643370"
      },
      "execution_count": 42,
      "outputs": [
        {
          "output_type": "stream",
          "name": "stdout",
          "text": [
            "[[1 1 1 2]\n",
            " [1 2 0 1]\n",
            " [1 2 2 1]\n",
            " [2 1 1 1]]\n"
          ]
        }
      ]
    },
    {
      "cell_type": "code",
      "source": [
        "A = np.array([ [0,1,0,1],[0,0,1,0],[1,0,0,1],[1,1,0,0]])\n",
        "sumA = A\n",
        "temp = A.dot(A)\n",
        "k = 3\n",
        "sumA = sumA + temp\n",
        "for i in range(1, k-1):\n",
        " temp = temp.dot(A)\n",
        " sumA = sumA + temp\n",
        "print (temp)\n",
        "print (sumA)"
      ],
      "metadata": {
        "colab": {
          "base_uri": "https://localhost:8080/"
        },
        "id": "UHY9xxy9UtfK",
        "outputId": "ef585c2e-446a-4029-98aa-478af813516c"
      },
      "execution_count": 43,
      "outputs": [
        {
          "output_type": "stream",
          "name": "stdout",
          "text": [
            "[[1 1 1 2]\n",
            " [1 2 0 1]\n",
            " [1 2 2 1]\n",
            " [2 1 1 1]]\n",
            "[[2 3 2 3]\n",
            " [2 2 1 2]\n",
            " [3 4 2 3]\n",
            " [3 3 2 2]]\n"
          ]
        }
      ]
    },
    {
      "cell_type": "markdown",
      "source": [
        "Bài tập chương 3"
      ],
      "metadata": {
        "id": "abY4vFZcU6Oj"
      }
    },
    {
      "cell_type": "markdown",
      "source": [
        "Bài tập 1"
      ],
      "metadata": {
        "id": "FI4UC3B-U8Hy"
      }
    },
    {
      "cell_type": "code",
      "source": [
        "import numpy as np\n",
        "#a\n",
        "A = np.array([[2, 1, 3], [1, 1, 1], [1, 2, 1]])\n",
        "det_A = np.linalg.det(A)\n",
        "if det_A == 0:\n",
        "  print (\"Không khả nghịch\")\n",
        "else:\n",
        "    print(\"Khả nghịch. Định thức:\", det_A)\n",
        "    A_inv = np.linalg.inv(A)\n",
        "    print(\"Nghịch đảo:\\n\", A_inv)\n",
        "#b\n",
        "t = input(\"Nhập họ và tên hoặc mã số sinh viên: \")\n",
        "#c\n",
        "cd = [ord(char) for char in t]\n",
        "while len(cd) % 3 != 0:\n",
        "  cd.append(0)\n",
        "pt = np.array(cd).reshape(-1, 3)\n",
        "mh = np.dot(pt, A.T)\n",
        "print(\"Sau khi mã hóa:\\n\", mh)\n",
        "#d\n",
        "gm=np.dot(mh, A_inv.T)\n",
        "sgm=np.rint(gm).astype(int)\n",
        "kq = ''.join(chr(num) for num in sgm.flatten() if num != 0)\n",
        "print(\"Sau khi giải mã:\\n\", kq)"
      ],
      "metadata": {
        "colab": {
          "base_uri": "https://localhost:8080/"
        },
        "id": "6h_2oSBoU7n4",
        "outputId": "f56a96bd-ee43-4209-88d3-39c8fe0679ea"
      },
      "execution_count": 47,
      "outputs": [
        {
          "output_type": "stream",
          "name": "stdout",
          "text": [
            "Khả nghịch. Định thức: 0.9999999999999996\n",
            "Nghịch đảo:\n",
            " [[-1.00000000e+00  5.00000000e+00 -2.00000000e+00]\n",
            " [ 1.48029737e-16 -1.00000000e+00  1.00000000e+00]\n",
            " [ 1.00000000e+00 -3.00000000e+00  1.00000000e+00]]\n",
            "Nhập họ và tên hoặc mã số sinh viên: 2474802010209\n",
            "Sau khi mã hóa:\n",
            " [[317 157 209]\n",
            " [304 156 212]\n",
            " [295 147 195]\n",
            " [290 146 196]\n",
            " [114  57  57]]\n",
            "Sau khi giải mã:\n",
            " 2474802010209\n"
          ]
        }
      ]
    },
    {
      "cell_type": "code",
      "source": [
        "import numpy as np\n",
        "def pslt(c_list):\n",
        "    M = np.array([[1, 0], [0, 1]])\n",
        "    for c in c_list:\n",
        "        A = np.array([[c, 1], [1, 0]])\n",
        "        M = M @ A\n",
        "    kq = M @ np.array([1, 0])\n",
        "    p_n, q_n = kq[0], kq[1]\n",
        "    return p_n, q_n\n",
        "c_list = [3, 1, 2]\n",
        "p, q = pslt(c_list)\n",
        "print(f\"Kết quả: {p}/{q} = {p/q}\")"
      ],
      "metadata": {
        "colab": {
          "base_uri": "https://localhost:8080/"
        },
        "id": "pionlcTNXos9",
        "outputId": "90cb1faa-12c2-4cf1-814b-bc4b4d4b6f25"
      },
      "execution_count": 50,
      "outputs": [
        {
          "output_type": "stream",
          "name": "stdout",
          "text": [
            "Kết quả: 11/3 = 3.6666666666666665\n"
          ]
        }
      ]
    },
    {
      "cell_type": "code",
      "source": [
        "#Công thức tính (pn, qn) bằng cách nhân các ma trận liên tiếp đúng theo quy nạp và khớp với biểu diễn của phân số từ liên phân số."
      ],
      "metadata": {
        "id": "5r4cBXGfYQcw"
      },
      "execution_count": null,
      "outputs": []
    }
  ]
}