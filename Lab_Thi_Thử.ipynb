{
  "nbformat": 4,
  "nbformat_minor": 0,
  "metadata": {
    "colab": {
      "provenance": []
    },
    "kernelspec": {
      "name": "python3",
      "display_name": "Python 3"
    },
    "language_info": {
      "name": "python"
    }
  },
  "cells": [
    {
      "cell_type": "markdown",
      "source": [
        "Bài 1"
      ],
      "metadata": {
        "id": "HGIZR8T1l-Db"
      }
    },
    {
      "cell_type": "code",
      "execution_count": 7,
      "metadata": {
        "colab": {
          "base_uri": "https://localhost:8080/"
        },
        "id": "_qFT5vlUkwEg",
        "outputId": "c415edf0-d739-447c-92eb-fd152099af2d"
      },
      "outputs": [
        {
          "output_type": "stream",
          "name": "stdout",
          "text": [
            "a) A + B = [3 3 1 5]\n",
            "   3A - 2B = [  4 -11  13 -10]\n",
            "\n",
            "b) A · B = -8\n",
            "   Góc giữa hai vector (độ) = 108.376\n",
            "\n",
            "c) C^T * C =\n",
            " [[ 5  0 -1]\n",
            " [ 0 14 10]\n",
            " [-1 10 17]]\n"
          ]
        }
      ],
      "source": [
        "import numpy as np\n",
        "from math import acos, degrees\n",
        "A = np.array([2, -1, 3, 0])\n",
        "B = np.array([1, 4, -2, 5])\n",
        "C = np.array([[1, 2, -1], [0, 3, 4], [2, -1, 0]])\n",
        "A_plus_B = A + B\n",
        "expr = 3 * A - 2 * B\n",
        "print(\"a) A + B =\", A_plus_B)\n",
        "print(\"   3A - 2B =\", expr)\n",
        "dot_product = np.dot(A, B)\n",
        "norm_A = np.linalg.norm(A)\n",
        "norm_B = np.linalg.norm(B)\n",
        "cos_theta = dot_product / (norm_A * norm_B)\n",
        "theta_rad = acos(cos_theta)\n",
        "theta_deg = round(degrees(theta_rad), 3)\n",
        "print(\"\\nb) A · B =\", dot_product)\n",
        "print(\"   Góc giữa hai vector (độ) =\", theta_deg)\n",
        "C_transpose = C.T\n",
        "CtC = np.dot(C_transpose, C)\n",
        "print(\"\\nc) C^T * C =\\n\", CtC)"
      ]
    },
    {
      "cell_type": "markdown",
      "source": [
        "Bài 2"
      ],
      "metadata": {
        "id": "8KGvGloqmAmx"
      }
    },
    {
      "cell_type": "code",
      "source": [
        "import numpy as np\n",
        "M = np.array([[1, 2, 3, 0], [4, 5, 6, 1], [7, 8, 9, 2], [0, 1, 1, 0]])\n",
        "N = np.array([ [0, 1, 2, 3], [4, 5, 6, 7], [8, 9, 10, 11], [12, 13, 14, 15]])\n",
        "product = np.dot(M, N)\n",
        "print(\"a) Tích M × N =\\n\", product)\n",
        "try:\n",
        "    det_M = np.linalg.det(M)\n",
        "    print(\"\\nb) Định thức của M =\", round(det_M, 3))\n",
        "except np.linalg.LinAlgError:\n",
        "    print(\"\\nb) Không thể tính định thức vì M không là ma trận vuông.\")\n",
        "rank_N = np.linalg.matrix_rank(N)\n",
        "print(\"\\nc) Hạng của N =\", rank_N)"
      ],
      "metadata": {
        "colab": {
          "base_uri": "https://localhost:8080/"
        },
        "id": "gje2xV1sl9aN",
        "outputId": "54d76509-0c38-4700-f93c-bc9cadaaf852"
      },
      "execution_count": 8,
      "outputs": [
        {
          "output_type": "stream",
          "name": "stdout",
          "text": [
            "a) Tích M × N =\n",
            " [[ 32  38  44  50]\n",
            " [ 80  96 112 128]\n",
            " [128 154 180 206]\n",
            " [ 12  14  16  18]]\n",
            "\n",
            "b) Định thức của M = 0.0\n",
            "\n",
            "c) Hạng của N = 2\n"
          ]
        }
      ]
    },
    {
      "cell_type": "markdown",
      "source": [
        "Bài 3"
      ],
      "metadata": {
        "id": "D8y2ucDrme_G"
      }
    },
    {
      "cell_type": "code",
      "source": [
        "import numpy as np\n",
        "P = np.array([ [2, 1, 0, 1], [0, 3, 1, -1], [1, 0, 4, 2], [0, 1, 0, 3]])\n",
        "b = np.array([4, 7, 9, 5])\n",
        "try:\n",
        "    P_inv = np.linalg.inv(P)\n",
        "    print(\"a) Ma trận nghịch đảo của P:\\n\", P_inv)\n",
        "except np.linalg.LinAlgError:\n",
        "    print(\"a) Ma trận P không khả nghịch (không tồn tại nghịch đảo).\")\n",
        "x = np.dot(P_inv, b)\n",
        "print(\"\\nb) Nghiệm của hệ phương trình [x, y, z, w] =\\n\", x)\n",
        "check = np.dot(P, x)\n",
        "print(\"\\nc) Kiểm tra P * x =\\n\", check)\n",
        "print(\"Vector b =\\n\", b)\n",
        "print(\"So sánh P*x với b:\", np.allclose(check, b))"
      ],
      "metadata": {
        "colab": {
          "base_uri": "https://localhost:8080/"
        },
        "id": "Axo2u0aomgFH",
        "outputId": "7546de20-7034-4c78-b8c8-511f972f7f4d"
      },
      "execution_count": 9,
      "outputs": [
        {
          "output_type": "stream",
          "name": "stdout",
          "text": [
            "a) Ma trận nghịch đảo của P:\n",
            " [[ 0.48837209 -0.09302326  0.02325581 -0.20930233]\n",
            " [ 0.03488372  0.27906977 -0.06976744  0.12790698]\n",
            " [-0.11627907  0.06976744  0.23255814 -0.09302326]\n",
            " [-0.01162791 -0.09302326  0.02325581  0.29069767]]\n",
            "\n",
            "b) Nghiệm của hệ phương trình [x, y, z, w] =\n",
            " [0.46511628 2.10465116 1.65116279 0.96511628]\n",
            "\n",
            "c) Kiểm tra P * x =\n",
            " [4. 7. 9. 5.]\n",
            "Vector b =\n",
            " [4 7 9 5]\n",
            "So sánh P*x với b: True\n"
          ]
        }
      ]
    },
    {
      "cell_type": "markdown",
      "source": [
        "Bài 4"
      ],
      "metadata": {
        "id": "230jUuBgnHoM"
      }
    },
    {
      "cell_type": "code",
      "source": [
        "import numpy as np\n",
        "Q = np.array([ [4, -1, 0], [1, 3, -2], [0, 1, 2]])\n",
        "eigenvalues, eigenvectors = np.linalg.eig(Q)\n",
        "print(\"a) Các giá trị riêng của Q:\")\n",
        "print(eigenvalues)\n",
        "print(\"\\nb) Các vector riêng (theo cột):\")\n",
        "print(eigenvectors)\n",
        "print(\"\\nc) Vector riêng sau khi chuẩn hóa (độ dài = 1):\")\n",
        "normalized_vectors = []\n",
        "for vec in eigenvectors.T:\n",
        "    norm_vec = vec / np.linalg.norm(vec)\n",
        "    normalized_vectors.append(norm_vec)\n",
        "    print(norm_vec)"
      ],
      "metadata": {
        "colab": {
          "base_uri": "https://localhost:8080/"
        },
        "id": "V5Ebpzi2nJ9V",
        "outputId": "27b2108c-54e0-4839-e855-784a3bf314b0"
      },
      "execution_count": 10,
      "outputs": [
        {
          "output_type": "stream",
          "name": "stdout",
          "text": [
            "a) Các giá trị riêng của Q:\n",
            "[3.45339765+0.j         2.77330117+1.46771151j 2.77330117-1.46771151j]\n",
            "\n",
            "b) Các vector riêng (theo cột):\n",
            "[[ 0.83327121+0.j         -0.26206044-0.31354813j -0.26206044+0.31354813j]\n",
            " [ 0.455468  +0.j         -0.78166743+0.j         -0.78166743-0.j        ]\n",
            " [ 0.31338154+0.j         -0.21963176+0.41685708j -0.21963176-0.41685708j]]\n",
            "\n",
            "c) Vector riêng sau khi chuẩn hóa (độ dài = 1):\n",
            "[0.83327121+0.j 0.455468  +0.j 0.31338154+0.j]\n",
            "[-0.26206044-0.31354813j -0.78166743+0.j         -0.21963176+0.41685708j]\n",
            "[-0.26206044+0.31354813j -0.78166743+0.j         -0.21963176-0.41685708j]\n"
          ]
        }
      ]
    },
    {
      "cell_type": "markdown",
      "source": [
        "Bài 5"
      ],
      "metadata": {
        "id": "rXPZ11Txne_2"
      }
    },
    {
      "cell_type": "code",
      "source": [
        "import numpy as np\n",
        "R = np.array([[1, -2, 3], [2,  0, 1], [-1, 1, 4]])\n",
        "b = np.array([10, 8, 7])\n",
        "x = np.linalg.solve(R, b)\n",
        "print(\"a) Nghiệm của hệ phương trình R x = b là:\\n\", x)\n",
        "det_R = np.linalg.det(R)\n",
        "print(\"\\nb) Định thức của R =\", round(det_R, 3))\n",
        "if det_R != 0:\n",
        "    R_inv = np.linalg.inv(R)\n",
        "    x_inv = np.dot(R_inv, b)\n",
        "    print(\"Ma trận nghịch đảo R⁻¹:\\n\", R_inv)\n",
        "    print(\"Nghiệm bằng nghịch đảo:\\n\", x_inv)\n",
        "    print(\"Hai nghiệm giống nhau?\", np.allclose(x, x_inv))\n",
        "else:\n",
        "    print(\"Ma trận R không khả nghịch nên không thể dùng nghịch đảo để giải.\")\n",
        "fro_norm = np.linalg.norm(R, ord='fro')\n",
        "print(\"\\nc) Chuẩn Frobenius của R =\", round(fro_norm, 3))"
      ],
      "metadata": {
        "colab": {
          "base_uri": "https://localhost:8080/"
        },
        "id": "nY2Fln8vngOX",
        "outputId": "411f6f5c-9539-48d7-e5ba-e63128cde3aa"
      },
      "execution_count": 11,
      "outputs": [
        {
          "output_type": "stream",
          "name": "stdout",
          "text": [
            "a) Nghiệm của hệ phương trình R x = b là:\n",
            " [2.7826087  0.04347826 2.43478261]\n",
            "\n",
            "b) Định thức của R = 23.0\n",
            "Ma trận nghịch đảo R⁻¹:\n",
            " [[-0.04347826  0.47826087 -0.08695652]\n",
            " [-0.39130435  0.30434783  0.2173913 ]\n",
            " [ 0.08695652  0.04347826  0.17391304]]\n",
            "Nghiệm bằng nghịch đảo:\n",
            " [2.7826087  0.04347826 2.43478261]\n",
            "Hai nghiệm giống nhau? True\n",
            "\n",
            "c) Chuẩn Frobenius của R = 6.083\n"
          ]
        }
      ]
    }
  ]
}