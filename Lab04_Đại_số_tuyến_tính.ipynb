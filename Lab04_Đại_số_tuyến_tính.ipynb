{
  "nbformat": 4,
  "nbformat_minor": 0,
  "metadata": {
    "colab": {
      "provenance": []
    },
    "kernelspec": {
      "name": "python3",
      "display_name": "Python 3"
    },
    "language_info": {
      "name": "python"
    }
  },
  "cells": [
    {
      "cell_type": "markdown",
      "source": [
        "Bài tập trên lớp"
      ],
      "metadata": {
        "id": "ka2exCKhUUfd"
      }
    },
    {
      "cell_type": "markdown",
      "source": [
        "Bài 1"
      ],
      "metadata": {
        "id": "1R0tdD01UWeT"
      }
    },
    {
      "cell_type": "code",
      "execution_count": null,
      "metadata": {
        "colab": {
          "base_uri": "https://localhost:8080/"
        },
        "id": "FrEdeazvUPaM",
        "outputId": "eb66b8fe-5b54-4ede-ad9f-04c8b66dfffe"
      },
      "outputs": [
        {
          "output_type": "stream",
          "name": "stdout",
          "text": [
            "-1\n"
          ]
        }
      ],
      "source": [
        "import numpy as np\n",
        "n = 4\n",
        "X = np.array(range(1,n+1))\n",
        "sigma = np.array([4,3,2,1])\n",
        "def sgn_by_def(sigma):\n",
        "    ket_qua = 1.0\n",
        "    for i in range(len(X) - 1):\n",
        "        for j in range(i + 1, len(X)):\n",
        "            ket_qua = ket_qua * ((X[i] - X[j]) / (sigma[i] - sigma[j]))\n",
        "    return int(ket_qua)\n",
        "sigma = np.array([2,1,3,4])\n",
        "print(sgn_by_def(sigma))"
      ]
    },
    {
      "cell_type": "code",
      "source": [
        "from itertools import permutations\n",
        "n = 3\n",
        "X = []\n",
        "for i in range (1, n+1):\n",
        " X.append(i)\n",
        "Sn = list(permutations(X))\n",
        "print(Sn)"
      ],
      "metadata": {
        "colab": {
          "base_uri": "https://localhost:8080/"
        },
        "id": "eYsr-wiwUudD",
        "outputId": "bfe4aa37-94a5-4bd4-966a-83fca85970bf"
      },
      "execution_count": null,
      "outputs": [
        {
          "output_type": "stream",
          "name": "stdout",
          "text": [
            "[(1, 2, 3), (1, 3, 2), (2, 1, 3), (2, 3, 1), (3, 1, 2), (3, 2, 1)]\n"
          ]
        }
      ]
    },
    {
      "cell_type": "code",
      "source": [
        "det = 0\n",
        "import numpy as np"
      ],
      "metadata": {
        "id": "JYfdUSlEU4dQ"
      },
      "execution_count": null,
      "outputs": []
    },
    {
      "cell_type": "code",
      "source": [
        "from itertools import permutations\n",
        "import numpy as np\n",
        "def sgn_by_def(sigma, X):\n",
        "    ket_qua = 1.0\n",
        "    for i in range(len(X) - 1):\n",
        "        for j in range(i + 1, len(X)):\n",
        "            ket_qua *= (X[i] - X[j]) / (sigma[i] - sigma[j])\n",
        "    return int(ket_qua)\n",
        "def phatsinh_dinhthuc(n):\n",
        "    X = []\n",
        "    for i in range(1, n + 1):\n",
        "        X.append(i)\n",
        "    Sn = list(permutations(X))\n",
        "    dinhthuc = \"\"\n",
        "    for sn in Sn:\n",
        "        sigma = np.array([1])\n",
        "        sigma.resize((n,))\n",
        "        product = \"\"\n",
        "        for i in range(1, n + 1):\n",
        "            sigma[sn.index(i)] = i\n",
        "            product += \"a\" + str(i) + str(sn.index(i) + 1)\n",
        "        dau = sgn_by_def(sigma, X)\n",
        "        if dau != 1:\n",
        "            product = \" - \" + product\n",
        "        else:\n",
        "            product = \" + \" + product\n",
        "        dinhthuc += product\n",
        "    return dinhthuc"
      ],
      "metadata": {
        "id": "HcNUCxB1U6c5"
      },
      "execution_count": null,
      "outputs": []
    },
    {
      "cell_type": "code",
      "source": [
        "phatsinh_dinhthuc(2)\n",
        "'a11a22 - a12a21'"
      ],
      "metadata": {
        "colab": {
          "base_uri": "https://localhost:8080/",
          "height": 36
        },
        "id": "wtDdBOLKXGkT",
        "outputId": "41bba475-3949-40d7-c169-9e025844a60a"
      },
      "execution_count": null,
      "outputs": [
        {
          "output_type": "execute_result",
          "data": {
            "text/plain": [
              "'a11a22 - a12a21'"
            ],
            "application/vnd.google.colaboratory.intrinsic+json": {
              "type": "string"
            }
          },
          "metadata": {},
          "execution_count": 46
        }
      ]
    },
    {
      "cell_type": "code",
      "source": [
        "phatsinh_dinhthuc(3)"
      ],
      "metadata": {
        "colab": {
          "base_uri": "https://localhost:8080/",
          "height": 36
        },
        "id": "4RwcOtBjXUVC",
        "outputId": "842c6221-9c9e-4b50-a0b7-fdf6532eec50"
      },
      "execution_count": null,
      "outputs": [
        {
          "output_type": "execute_result",
          "data": {
            "text/plain": [
              "' + a11a22a33 - a11a23a32 - a12a21a33 + a13a21a32 + a12a23a31 - a13a22a31'"
            ],
            "application/vnd.google.colaboratory.intrinsic+json": {
              "type": "string"
            }
          },
          "metadata": {},
          "execution_count": 47
        }
      ]
    },
    {
      "cell_type": "code",
      "source": [
        "from itertools import permutations\n",
        "import numpy as np\n",
        "def tinhtoan_dinhthuc(matran):\n",
        "  X =[]\n",
        "  import math\n",
        "  n = int(math.sqrt(matran.size))\n",
        "  for i in range(1, n+1):\n",
        "    X.append(i)\n",
        "  Sn = list(permutations(X))\n",
        "  dinhthuc = 0\n",
        "  for sn in Sn:\n",
        "    sigma = np.array([1])\n",
        "    sigma.resize([n])\n",
        "    product = 1\n",
        "    for i in range(1, n+1):\n",
        "      sigma[sn.index(i)] = i\n",
        "      product = product * matran[i-1] [sn.index(i)]\n",
        "      print(matran[i-1] [sn.index(i)])\n",
        "    dau = sgn_by_def(sigma, X)\n",
        "    if (dau != 1):\n",
        "      product = product * (-1)\n",
        "    dinhthuc = dinhthuc + product\n",
        "  return dinhthuc\n",
        "matran = np.array([ [3,5,-8], [4, 12, -1], [2,5,3] ])\n",
        "tinhtoan_dinhthuc(matran)"
      ],
      "metadata": {
        "id": "mvxDLwJDXyPd",
        "colab": {
          "base_uri": "https://localhost:8080/"
        },
        "outputId": "b0950741-1b76-4d39-89f8-974dce3d2f6e"
      },
      "execution_count": null,
      "outputs": [
        {
          "output_type": "stream",
          "name": "stdout",
          "text": [
            "3\n",
            "12\n",
            "3\n",
            "3\n",
            "-1\n",
            "5\n",
            "5\n",
            "4\n",
            "3\n",
            "-8\n",
            "4\n",
            "5\n",
            "5\n",
            "-1\n",
            "2\n",
            "-8\n",
            "12\n",
            "2\n"
          ]
        },
        {
          "output_type": "execute_result",
          "data": {
            "text/plain": [
              "np.int64(85)"
            ]
          },
          "metadata": {},
          "execution_count": 48
        }
      ]
    },
    {
      "cell_type": "markdown",
      "source": [
        "Bài 3"
      ],
      "metadata": {
        "id": "V7iXYpMwXlXy"
      }
    },
    {
      "cell_type": "code",
      "source": [
        "import numpy as np\n",
        "A = np.array([[4, -2],[3, -5]])\n",
        "A1 = np.array([[10, -2],[11, -5]])\n",
        "A2 = np.array([[4, 10],[3, 11]])\n",
        "from scipy import linalg\n",
        "detA = linalg.det(A)\n",
        "detA1 = linalg.det(A1)\n",
        "detA2 = linalg.det(A2)\n",
        "print (detA, detA1, detA2)"
      ],
      "metadata": {
        "colab": {
          "base_uri": "https://localhost:8080/"
        },
        "id": "qXQG9Xd2XmnY",
        "outputId": "f54a4768-c474-4966-d91b-f2e34d0410d2"
      },
      "execution_count": null,
      "outputs": [
        {
          "output_type": "stream",
          "name": "stdout",
          "text": [
            "-14.0 -28.0 14.000000000000004\n"
          ]
        }
      ]
    },
    {
      "cell_type": "code",
      "source": [
        "if (detA != 0):\n",
        " x1 = detA1 / detA\n",
        " x2 = detA2 / detA\n",
        " print (\"Hai nghiệm của phương trình là: \", x1, x2)"
      ],
      "metadata": {
        "colab": {
          "base_uri": "https://localhost:8080/"
        },
        "id": "vxGCEp-dSxuE",
        "outputId": "f6362a94-02a3-4afe-bb01-818b76b277c1"
      },
      "execution_count": null,
      "outputs": [
        {
          "output_type": "stream",
          "name": "stdout",
          "text": [
            "Hai nghiệm của phương trình là:  2.0 -1.0000000000000002\n"
          ]
        }
      ]
    },
    {
      "cell_type": "code",
      "source": [
        "from itertools import permutations\n",
        "import numpy as np\n",
        "def sgn_by_def(sigma, X):\n",
        "    ket_qua = 1.0\n",
        "    for i in range(len(X) - 1):\n",
        "        for j in range(i + 1, len(X)):\n",
        "            ket_qua *= (X[i] - X[j]) / (sigma[i] - sigma[j])\n",
        "    return int(ket_qua)\n",
        "def tinhtoan_dinhthuc(matran):\n",
        "  X =[]\n",
        "  import math\n",
        "  n = int(math.sqrt(matran.size))\n",
        "  for i in range(1, n+1):\n",
        "    X.append(i)\n",
        "  Sn = list(permutations(X))\n",
        "  dinhthuc = 0\n",
        "  for sn in Sn:\n",
        "    sigma = np.array([1])\n",
        "    sigma.resize([n])\n",
        "    product = 1\n",
        "    for i in range(1, n+1):\n",
        "      sigma[sn.index(i)] = i\n",
        "      product = product * matran[i-1] [sn.index(i)]\n",
        "      print(matran[i-1] [sn.index(i)])\n",
        "    dau = sgn_by_def(sigma, X)\n",
        "    if (dau != 1):\n",
        "      product = product * (-1)\n",
        "    dinhthuc = dinhthuc + product\n",
        "  return dinhthuc\n",
        "matran = np.array([[4, -2],[3, -5]])\n",
        "print(\"A: \", tinhtoan_dinhthuc(matran))"
      ],
      "metadata": {
        "colab": {
          "base_uri": "https://localhost:8080/"
        },
        "id": "tU7rC9AkYFDS",
        "outputId": "a093fa97-27db-4e6a-a5ed-451b36fafa99"
      },
      "execution_count": null,
      "outputs": [
        {
          "output_type": "stream",
          "name": "stdout",
          "text": [
            "4\n",
            "-5\n",
            "-2\n",
            "3\n",
            "A:  -14\n"
          ]
        }
      ]
    },
    {
      "cell_type": "code",
      "source": [
        "from itertools import permutations\n",
        "import numpy as np\n",
        "def sgn_by_def(sigma, X):\n",
        "    ket_qua = 1.0\n",
        "    for i in range(len(X) - 1):\n",
        "        for j in range(i + 1, len(X)):\n",
        "            ket_qua *= (X[i] - X[j]) / (sigma[i] - sigma[j])\n",
        "    return int(ket_qua)\n",
        "def tinhtoan_dinhthuc(matran):\n",
        "  X =[]\n",
        "  import math\n",
        "  n = int(math.sqrt(matran.size))\n",
        "  for i in range(1, n+1):\n",
        "    X.append(i)\n",
        "  Sn = list(permutations(X))\n",
        "  dinhthuc = 0\n",
        "  for sn in Sn:\n",
        "    sigma = np.array([1])\n",
        "    sigma.resize([n])\n",
        "    product = 1\n",
        "    for i in range(1, n+1):\n",
        "      sigma[sn.index(i)] = i\n",
        "      product = product * matran[i-1] [sn.index(i)]\n",
        "      print(matran[i-1] [sn.index(i)])\n",
        "    dau = sgn_by_def(sigma, X)\n",
        "    if (dau != 1):\n",
        "      product = product * (-1)\n",
        "    dinhthuc = dinhthuc + product\n",
        "  return dinhthuc\n",
        "matran = np.array([[10, -2],[11, -5]])\n",
        "print(\"A1: \", tinhtoan_dinhthuc(matran))"
      ],
      "metadata": {
        "colab": {
          "base_uri": "https://localhost:8080/"
        },
        "id": "SC86157LYQcg",
        "outputId": "ead3421a-3c23-4e5d-e657-03374a1a4a8a"
      },
      "execution_count": null,
      "outputs": [
        {
          "output_type": "stream",
          "name": "stdout",
          "text": [
            "10\n",
            "-5\n",
            "-2\n",
            "11\n",
            "A1:  -28\n"
          ]
        }
      ]
    },
    {
      "cell_type": "code",
      "source": [
        "from itertools import permutations\n",
        "import numpy as np\n",
        "def sgn_by_def(sigma, X):\n",
        "    ket_qua = 1.0\n",
        "    for i in range(len(X) - 1):\n",
        "        for j in range(i + 1, len(X)):\n",
        "            ket_qua *= (X[i] - X[j]) / (sigma[i] - sigma[j])\n",
        "    return int(ket_qua)\n",
        "def tinhtoan_dinhthuc(matran):\n",
        "  X =[]\n",
        "  import math\n",
        "  n = int(math.sqrt(matran.size))\n",
        "  for i in range(1, n+1):\n",
        "    X.append(i)\n",
        "  Sn = list(permutations(X))\n",
        "  dinhthuc = 0\n",
        "  for sn in Sn:\n",
        "    sigma = np.array([1])\n",
        "    sigma.resize([n])\n",
        "    product = 1\n",
        "    for i in range(1, n+1):\n",
        "      sigma[sn.index(i)] = i\n",
        "      product = product * matran[i-1] [sn.index(i)]\n",
        "    dau = sgn_by_def(sigma, X)\n",
        "    if (dau != 1):\n",
        "      product = product * (-1)\n",
        "    dinhthuc = dinhthuc + product\n",
        "  return dinhthuc\n",
        "matran = np.array([[4, 10],[3, 11]])\n",
        "print(\"A2: \", tinhtoan_dinhthuc(matran))"
      ],
      "metadata": {
        "colab": {
          "base_uri": "https://localhost:8080/"
        },
        "id": "Ym3DvlP1Yuxq",
        "outputId": "cd284ad5-3f8b-4416-b5f7-c571b3478145"
      },
      "execution_count": null,
      "outputs": [
        {
          "output_type": "stream",
          "name": "stdout",
          "text": [
            "4\n",
            "11\n",
            "10\n",
            "3\n",
            "A2:  14\n"
          ]
        }
      ]
    },
    {
      "cell_type": "code",
      "source": [
        "import numpy as np\n",
        "from scipy.linalg import det\n",
        "A = np.array([[-1, 2, -3], [2, -2, 1], [3, -4, 4]])\n",
        "dinhthucA = det(A)\n",
        "print(dinhthucA)"
      ],
      "metadata": {
        "colab": {
          "base_uri": "https://localhost:8080/"
        },
        "id": "t7M4rfM5aH0g",
        "outputId": "4a820b77-24e6-4b69-f81a-b554b6d1ba69"
      },
      "execution_count": null,
      "outputs": [
        {
          "output_type": "stream",
          "name": "stdout",
          "text": [
            "0.0\n"
          ]
        }
      ]
    },
    {
      "cell_type": "code",
      "source": [
        "from itertools import permutations\n",
        "import numpy as np\n",
        "def sgn_by_def(sigma, X):\n",
        "    ket_qua = 1.0\n",
        "    for i in range(len(X) - 1):\n",
        "        for j in range(i + 1, len(X)):\n",
        "            ket_qua *= (X[i] - X[j]) / (sigma[i] - sigma[j])\n",
        "    return int(ket_qua)\n",
        "def tinhtoan_dinhthuc(matran):\n",
        "  X =[]\n",
        "  import math\n",
        "  n = int(math.sqrt(matran.size))\n",
        "  for i in range(1, n+1):\n",
        "    X.append(i)\n",
        "  Sn = list(permutations(X))\n",
        "  dinhthuc = 0\n",
        "  for sn in Sn:\n",
        "    sigma = np.array([1])\n",
        "    sigma.resize([n])\n",
        "    product = 1\n",
        "    for i in range(1, n+1):\n",
        "      sigma[sn.index(i)] = i\n",
        "      product = product * matran[i-1] [sn.index(i)]\n",
        "    dau = sgn_by_def(sigma, X)\n",
        "    if (dau != 1):\n",
        "      product = product * (-1)\n",
        "    dinhthuc = dinhthuc + product\n",
        "  return int(dinhthuc)\n",
        "matran = np.array([[-1, 2, -3], [2, -2, 1], [3, -4, 4]])\n",
        "tinhtoan_dinhthuc(matran)"
      ],
      "metadata": {
        "colab": {
          "base_uri": "https://localhost:8080/"
        },
        "id": "2iVo42uRgdOo",
        "outputId": "9cfed2f7-000c-4c09-adc2-ea8571713165"
      },
      "execution_count": null,
      "outputs": [
        {
          "output_type": "execute_result",
          "data": {
            "text/plain": [
              "0"
            ]
          },
          "metadata": {},
          "execution_count": 55
        }
      ]
    },
    {
      "cell_type": "code",
      "source": [
        "import numpy as np\n",
        "A = np.array([[-1, 2, -3],\n",
        "              [2, -2, 1],\n",
        "              [3, -4, 4]])\n",
        "\n",
        "b = np.array([1, 3, 2])\n",
        "\n",
        "rank_A = np.linalg.matrix_rank(A)\n",
        "augmented_matrix = np.column_stack((A, b))\n",
        "rank_augmented = np.linalg.matrix_rank(augmented_matrix)\n",
        "if rank_A == rank_augmented:\n",
        "    if rank_A == A.shape[1]:\n",
        "        solution = np.linalg.solve(A, b)\n",
        "        print(\"Hệ có nghiệm duy nhất:\")\n",
        "        print(f\"a = {solution[0]}\")\n",
        "        print(f\"e = {solution[1]}\")\n",
        "        print(f\"f = {solution[2]}\")\n",
        "    else:\n",
        "        print(\"Hệ có vô số nghiệm\")\n",
        "else:\n",
        "    print(\"Hệ vô nghiệm\")"
      ],
      "metadata": {
        "colab": {
          "base_uri": "https://localhost:8080/"
        },
        "id": "JfQpar4WU6Kb",
        "outputId": "e6e31ef9-cdef-459e-9d53-727fa03bb25f"
      },
      "execution_count": null,
      "outputs": [
        {
          "output_type": "stream",
          "name": "stdout",
          "text": [
            "Hệ có vô số nghiệm\n"
          ]
        }
      ]
    },
    {
      "cell_type": "markdown",
      "source": [
        "Bài 4"
      ],
      "metadata": {
        "id": "HLzi3P-EVCh4"
      }
    },
    {
      "cell_type": "code",
      "source": [
        "import sympy as sp\n",
        "TG = sp.Matrix([[1, 0, 1],[4, 3, 1], [2, 2, 1]])\n",
        "1/2*TG.det()"
      ],
      "metadata": {
        "colab": {
          "base_uri": "https://localhost:8080/",
          "height": 37
        },
        "id": "JmaGxyIjU_VC",
        "outputId": "bda91dc1-9940-4636-fb0a-fde627d691fd"
      },
      "execution_count": null,
      "outputs": [
        {
          "output_type": "execute_result",
          "data": {
            "text/plain": [
              "1.50000000000000"
            ],
            "text/latex": "$\\displaystyle 1.5$"
          },
          "metadata": {},
          "execution_count": 2
        }
      ]
    },
    {
      "cell_type": "code",
      "source": [
        "M = np.matrix([[0, 4, 1, 1], [4, 0, 0, 1], [3, 5, 2, 1], [2, 2, 5, 1]])\n",
        "detM=np.linalg.det(M)\n",
        "(1/6)*detM"
      ],
      "metadata": {
        "colab": {
          "base_uri": "https://localhost:8080/"
        },
        "id": "ngstAwwYVqYy",
        "outputId": "58b312fa-23f8-4a91-f2ab-0e40c6b64346"
      },
      "execution_count": null,
      "outputs": [
        {
          "output_type": "execute_result",
          "data": {
            "text/plain": [
              "np.float64(-12.0)"
            ]
          },
          "metadata": {},
          "execution_count": 8
        }
      ]
    },
    {
      "cell_type": "code",
      "source": [
        "M = sp.Matrix([[0, 4, 1, 1], [4, 0, 0, 1], [3, 5, 2, 1], [2, 2, 5, 1]])\n",
        "M.det()"
      ],
      "metadata": {
        "colab": {
          "base_uri": "https://localhost:8080/",
          "height": 37
        },
        "id": "BOWBiOcTWdDp",
        "outputId": "8183a5bb-252e-41c7-91b5-485732636276"
      },
      "execution_count": null,
      "outputs": [
        {
          "output_type": "execute_result",
          "data": {
            "text/plain": [
              "-72"
            ],
            "text/latex": "$\\displaystyle -72$"
          },
          "metadata": {},
          "execution_count": 10
        }
      ]
    },
    {
      "cell_type": "code",
      "source": [
        "1/6*M.det()"
      ],
      "metadata": {
        "colab": {
          "base_uri": "https://localhost:8080/",
          "height": 37
        },
        "id": "fi4GTvmnW5mq",
        "outputId": "e9ae958c-0a04-4144-e5cd-b37d20c432bf"
      },
      "execution_count": null,
      "outputs": [
        {
          "output_type": "execute_result",
          "data": {
            "text/plain": [
              "-12.0000000000000"
            ],
            "text/latex": "$\\displaystyle -12.0$"
          },
          "metadata": {},
          "execution_count": 11
        }
      ]
    },
    {
      "cell_type": "code",
      "source": [
        "from sympy import *\n",
        "x, y, z = symbols('x y z')\n",
        "MP = Matrix([[x, y, z, 1],[-1, 3, 2, 1],[0, 1, 0, 1],[-2, 0, 1, 1]])\n",
        "MP.det()"
      ],
      "metadata": {
        "colab": {
          "base_uri": "https://localhost:8080/",
          "height": 39
        },
        "id": "TP6hQY0cXZSy",
        "outputId": "aebf491a-4989-4e2a-e8d9-33de4116bef9"
      },
      "execution_count": null,
      "outputs": [
        {
          "output_type": "execute_result",
          "data": {
            "text/plain": [
              "-4*x + 3*y - 5*z - 3"
            ],
            "text/latex": "$\\displaystyle - 4 x + 3 y - 5 z - 3$"
          },
          "metadata": {},
          "execution_count": 12
        }
      ]
    },
    {
      "cell_type": "code",
      "source": [
        "from sympy import *\n",
        "x, y, z = symbols('x y z')\n",
        "MP = Matrix([[x, y, z, 1], [-1, 3, 2, 1], [0, 1, 0, 1], [-2, 0, 1, 1]])\n",
        "det = MP.det()\n",
        "print(det)"
      ],
      "metadata": {
        "colab": {
          "base_uri": "https://localhost:8080/"
        },
        "id": "AzGdHCyIYbMa",
        "outputId": "3349279b-aae9-46d0-95d0-1020e97f3ac3"
      },
      "execution_count": null,
      "outputs": [
        {
          "output_type": "stream",
          "name": "stdout",
          "text": [
            "-4*x + 3*y - 5*z - 3\n"
          ]
        }
      ]
    },
    {
      "cell_type": "markdown",
      "source": [
        "Bài tập chương"
      ],
      "metadata": {
        "id": "NPlx2JAJYimi"
      }
    },
    {
      "cell_type": "markdown",
      "source": [
        "Bài tập 1"
      ],
      "metadata": {
        "id": "DOg5lGhFYnqR"
      }
    },
    {
      "cell_type": "code",
      "source": [
        "from sympy import *\n",
        "A = Matrix([[2, -3, 1], [2, 0, -1], [1, 4, 5]])\n",
        "#a)\n",
        "print(\"Câu a)\")\n",
        "caua=A.cofactor_matrix()\n",
        "pprint(caua)\n",
        "#b)\n",
        "print(\"Câu b)\")\n",
        "caub=A.adjugate()\n",
        "pprint(caub)"
      ],
      "metadata": {
        "colab": {
          "base_uri": "https://localhost:8080/"
        },
        "id": "J_UYFKikYjbx",
        "outputId": "f9448f03-84a4-4043-dfe0-a6ebcb0af8bf"
      },
      "execution_count": null,
      "outputs": [
        {
          "output_type": "stream",
          "name": "stdout",
          "text": [
            "Câu a)\n",
            "⎡4   -11   8 ⎤\n",
            "⎢            ⎥\n",
            "⎢19   9   -11⎥\n",
            "⎢            ⎥\n",
            "⎣3    4    6 ⎦\n",
            "Câu b)\n",
            "⎡ 4   19   3⎤\n",
            "⎢           ⎥\n",
            "⎢-11   9   4⎥\n",
            "⎢           ⎥\n",
            "⎣ 8   -11  6⎦\n"
          ]
        }
      ]
    },
    {
      "cell_type": "code",
      "source": [
        "x, y = symbols('x y')\n",
        "x1, y1 = 1, 1\n",
        "x2, y2 = 2, 4\n",
        "x3, y3 = 5, 3\n",
        "M = Matrix([[x**2 + y**2, x, y, 1], [x1**2 + y1**2, x1, y1, 1], [x2**2 + y2**2, x2, y2, 1], [x3**2 + y3**2, x3, y3, 1]])\n",
        "detM = M.det()\n",
        "Eq(detM, 0).doit()\n",
        "pprint(Eq(detM, 0))"
      ],
      "metadata": {
        "colab": {
          "base_uri": "https://localhost:8080/"
        },
        "id": "tthrWJT6bqDh",
        "outputId": "59e167f8-caa4-43b5-cbed-36adef745384"
      },
      "execution_count": null,
      "outputs": [
        {
          "output_type": "stream",
          "name": "stdout",
          "text": [
            "      2              2                \n",
            "- 10⋅x  + 60⋅x - 10⋅y  + 40⋅y - 80 = 0\n"
          ]
        }
      ]
    }
  ]
}